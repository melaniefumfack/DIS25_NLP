{
 "cells": [
  {
   "cell_type": "markdown",
   "metadata": {
    "pycharm": {
     "name": "#%% md\n"
    }
   },
   "source": [
    "# Evaluation\n",
    "## Imports"
   ]
  },
  {
   "cell_type": "code",
   "execution_count": 515,
   "metadata": {},
   "outputs": [],
   "source": [
    "import ast\n",
    "import os\n",
    "os.environ['MODIN_ENGINE'] = 'dask'\n",
    "import modin.pandas as pd\n",
    "from collections import Counter\n",
    "\n",
    "from nltk.corpus import stopwords\n",
    "stopwords = stopwords.words('german')\n",
    "import string\n",
    "from HanTa import HanoverTagger as ht\n",
    "tagger = ht.HanoverTagger('./morphmodel_ger.pgz')\n",
    "import re\n",
    "\n",
    "import pandas as pd\n",
    "import numpy as np\n",
    "\n",
    "import matplotlib.pyplot as plt\n",
    "import seaborn as sn\n",
    "from sklearn import preprocessing\n",
    "from scipy.stats import ttest_rel\n",
    "von  scipy  import  stats"
   ]
  },
  {
   "cell_type": "markdown",
   "metadata": {},
   "source": [
    "## Load data"
   ]
  },
  {
   "cell_type": "code",
   "execution_count": 2,
   "metadata": {
    "pycharm": {
     "name": "#%%\n"
    }
   },
   "outputs": [],
   "source": [
    "chunksize= 10 ** 6\n",
    "chunks = pd.read_csv('./btw17_rawdata_gender.csv', chunksize=chunksize)\n",
    "btw17_rawdata_df = pd.concat(chunks)"
   ]
  },
  {
   "cell_type": "code",
   "execution_count": null,
   "metadata": {
    "pycharm": {
     "name": "#%%\n"
    }
   },
   "outputs": [],
   "source": [
    "btw17_rawdata_df.head(3)"
   ]
  },
  {
   "cell_type": "markdown",
   "metadata": {
    "pycharm": {
     "name": "#%% md\n"
    }
   },
   "source": []
  },
  {
   "cell_type": "markdown",
   "metadata": {
    "pycharm": {
     "name": "#%% md\n"
    }
   },
   "source": [
    "## Preprocessing"
   ]
  },
  {
   "cell_type": "code",
   "execution_count": null,
   "metadata": {
    "pycharm": {
     "name": "#%%\n"
    }
   },
   "outputs": [],
   "source": [
    "with open('./all_names_to_delete.txt', 'r', encoding='utf-8') as f:\n",
    "    names = [term[:-1] for term in f.readlines()]\n",
    "word_pattern = re.compile('\\w+')\n",
    "with open('./all_names_to_delete.txt', 'r', encoding='utf-8') as f:\n",
    "    names = [term[:-1] for term in f.readlines()]\n",
    "with open('../dis25-2021/wordlist-german.txt', 'r', encoding='utf-8') as f:\n",
    "    german_terms = [term[:-1].lower() for term in f.readlines()]"
   ]
  },
  {
   "cell_type": "code",
   "execution_count": null,
   "metadata": {
    "pycharm": {
     "name": "#%%\n"
    }
   },
   "outputs": [],
   "source": [
    "def delete_names(matchobj)->str:\n",
    "    word = matchobj.group(0)\n",
    "    if word in names:\n",
    "        return \"\"\n",
    "    else:\n",
    "        return word"
   ]
  },
  {
   "cell_type": "code",
   "metadata": {
    "pycharm": {
     "name": "#%%\n"
    }
   },
   "source": [
    "def preprocess_keep_duplicates(suggestions:list)->list:\n",
    "    suggestions = tuple(map(lambda x: x.translate(str.maketrans(string.punctuation, ' ' * len(string.punctuation))), suggestions))\n",
    "    suggestions = [word_pattern.sub(delete_names, term.lower()) for term in suggestions]\n",
    "    suggestions = [suggestion for suggestion in suggestions if len(suggestion.split()) == 1]\n",
    "    suggestions = tuple(map(lambda x: re.sub('[0-9]*', '', x), suggestions))\n",
    "    suggestions = [x.lower() for x in suggestions]\n",
    "    suggestions = [x for x in suggestions if not 'http' in x]\n",
    "    suggestions = [x for x in suggestions if not x in stopwords]\n",
    "    suggestions = [tagger.analyze(tagger.analyze(suggestion)[0])[0].lower()\n",
    "                   for suggestion in suggestions\n",
    "                   if tagger.analyze(tagger.analyze(suggestion)[0])[1] in ['NN']]\n",
    "    suggestions = [re.sub('(^..?\\s|\\s..?\\s|\\s..?$|^..?$)', '', string) for string in suggestions]\n",
    "    suggestions = [x.strip() for x in suggestions]\n",
    "    suggestions = list(filter(None, suggestions))\n",
    "    suggestions = [term for term in suggestions if term in german_terms]\n",
    "    return (suggestions)"
   ],
   "execution_count": null,
   "outputs": []
  },
  {
   "cell_type": "markdown",
   "metadata": {
    "pycharm": {
     "name": "#%% md\n"
    }
   },
   "source": [
    "## Group by gender\n",
    "*Create one DataFrame for terms suggested for male politicians and one for terms suggested for female politicians*"
   ]
  },
  {
   "cell_type": "code",
   "execution_count": null,
   "metadata": {
    "pycharm": {
     "name": "#%%\n"
    }
   },
   "outputs": [],
   "source": [
    "female_suggestions = btw17_rawdata_df.groupby('gender').get_group('female')"
   ]
  },
  {
   "cell_type": "code",
   "execution_count": null,
   "metadata": {
    "pycharm": {
     "name": "#%%\n"
    }
   },
   "outputs": [],
   "source": [
    "male_suggestions = btw17_rawdata_df.groupby('gender').get_group('male')"
   ]
  },
  {
   "cell_type": "markdown",
   "metadata": {
    "pycharm": {
     "name": "#%% md\n"
    }
   },
   "source": [
    "## Turn DataFrames into flat lists, preprocess the terms of each list and keep the duplicates\n",
    "\n",
    "\\**Preprocessing is performed on slices in a loop and results are saved to file as a workaround for memory errors*"
   ]
  },
  {
   "cell_type": "code",
   "execution_count": null,
   "metadata": {
    "pycharm": {
     "name": "#%%\n"
    }
   },
   "outputs": [],
   "source": [
    "for i in range(0,len(female_suggestions)+1,int(len(female_suggestions)/10)):\n",
    "    j = i+int(len(female_suggestions)/10)\n",
    "    female_suggestions_prep = [term for row in female_suggestions.suggestions[i:j].to_list() for term in ast.literal_eval(row)]\n",
    "    with open('./female_suggestions_prep.txt','a',encoding='utf-8') as file:\n",
    "        for item in female_suggestions_prep:\n",
    "            file.write(item+'\\n')"
   ]
  },
  {
   "cell_type": "code",
   "execution_count": null,
   "metadata": {
    "pycharm": {
     "name": "#%%\n"
    }
   },
   "outputs": [],
   "source": [
    "for i in range(0,len(male_suggestions)+1,int(len(male_suggestions)/10)):\n",
    "    j = i+int(len(male_suggestions)/10)\n",
    "    male_suggestions_prep = [term for row in male_suggestions.suggestions.iloc[i:j].to_list() for term in ast.literal_eval(row)]\n",
    "    with open('./male_suggestions_prep.txt','a',encoding='utf-8') as file:\n",
    "        for item in male_suggestions_prep:\n",
    "            file.write(item+'\\n')"
   ]
  },
  {
   "cell_type": "markdown",
   "metadata": {
    "pycharm": {
     "name": "#%% md\n"
    }
   },
   "source": [
    "## Count occurrences of words per cluster and gender"
   ]
  },
  {
   "cell_type": "code",
   "execution_count": 2,
   "metadata": {
    "pycharm": {
     "name": "#%%\n"
    }
   },
   "outputs": [],
   "source": [
    "cluster_df = pd.read_csv('./manual_clustering.csv')"
   ]
  },
  {
   "cell_type": "code",
   "execution_count": 4,
   "metadata": {
    "pycharm": {
     "name": "#%%\n"
    }
   },
   "outputs": [],
   "source": [
    "cluster_df = cluster_df[1:-1]"
   ]
  },
  {
   "cell_type": "code",
   "execution_count": null,
   "outputs": [],
   "source": [
    "clusters = [ast.literal_eval(cluster) for cluster in cluster_df.cluster_terms.to_list()]"
   ],
   "metadata": {
    "collapsed": false,
    "pycharm": {
     "name": "#%%\n"
    }
   }
  },
  {
   "cell_type": "code",
   "execution_count": null,
   "outputs": [],
   "source": [
    "with open('./female_suggestions_prep.txt', 'r',encoding = 'utf-8') as file:\n",
    "    female_suggestions = [term[:-1] for term in file.readlines() if term != '']"
   ],
   "metadata": {
    "collapsed": false,
    "pycharm": {
     "name": "#%%\n"
    }
   }
  },
  {
   "cell_type": "code",
   "execution_count": null,
   "outputs": [],
   "source": [
    "female_counts = Counter(female_suggestions)"
   ],
   "metadata": {
    "collapsed": false,
    "pycharm": {
     "name": "#%%\n"
    }
   }
  },
  {
   "cell_type": "code",
   "execution_count": null,
   "outputs": [],
   "source": [
    "for index,cluster in enumerate(clusters):\n",
    "    count = 0\n",
    "    for term in cluster:\n",
    "        count += int(female_counts[term])\n",
    "    cluster_df.at[index,'female_count'] = count"
   ],
   "metadata": {
    "collapsed": false,
    "pycharm": {
     "name": "#%%\n"
    }
   }
  },
  {
   "cell_type": "code",
   "execution_count": null,
   "outputs": [],
   "source": [
    "cluster_df[['cluster_label','cluster_terms','female_count']].to_csv('./cluster_count_female.csv')"
   ],
   "metadata": {
    "collapsed": false,
    "pycharm": {
     "name": "#%%\n"
    }
   }
  },
  {
   "cell_type": "code",
   "execution_count": null,
   "outputs": [],
   "source": [
    "with open('./male_suggestions_prep.txt', 'r',encoding = 'utf-8') as file:\n",
    "    content = file.read()\n",
    "    male_suggestions = content.split('\\n')#[term[:-1] for term in file.readlines() if term != '']"
   ],
   "metadata": {
    "collapsed": false,
    "pycharm": {
     "name": "#%%\n"
    }
   }
  },
  {
   "cell_type": "code",
   "execution_count": null,
   "outputs": [],
   "source": [
    "male_counts = Counter(male_suggestions)"
   ],
   "metadata": {
    "collapsed": false,
    "pycharm": {
     "name": "#%%\n"
    }
   }
  },
  {
   "cell_type": "code",
   "execution_count": null,
   "outputs": [],
   "source": [
    "for cluster in clusters:\n",
    "    count=0\n",
    "    for term in cluster:\n",
    "        print(term)\n",
    "        count+=int(male_counts[term])\n",
    "    with open('./male_cluster_counts.csv','a') as file:\n",
    "        file.write(str(count)+'\\n')"
   ],
   "metadata": {
    "collapsed": false,
    "pycharm": {
     "name": "#%%\n"
    }
   }
  },
  {
   "cell_type": "markdown",
   "source": [
    "## Gender Evaluation"
   ],
   "metadata": {
    "collapsed": false,
    "pycharm": {
     "name": "#%% md\n"
    }
   }
  },
  {
   "cell_type": "code",
   "execution_count": 9,
   "outputs": [
    {
     "data": {
      "text/plain": "   Unnamed: 0           f_name gender  gender_probability\n0           0           Gunnar   male                0.99\n1           1             Ates   male                0.90\n2           2  bundeskanzlerin   male                1.00\n3           3          Michael   male                0.99\n4           4          Maurice   male                0.98",
      "text/html": "<div>\n<style scoped>\n    .dataframe tbody tr th:only-of-type {\n        vertical-align: middle;\n    }\n\n    .dataframe tbody tr th {\n        vertical-align: top;\n    }\n\n    .dataframe thead th {\n        text-align: right;\n    }\n</style>\n<table border=\"1\" class=\"dataframe\">\n  <thead>\n    <tr style=\"text-align: right;\">\n      <th></th>\n      <th>Unnamed: 0</th>\n      <th>f_name</th>\n      <th>gender</th>\n      <th>gender_probability</th>\n    </tr>\n  </thead>\n  <tbody>\n    <tr>\n      <th>0</th>\n      <td>0</td>\n      <td>Gunnar</td>\n      <td>male</td>\n      <td>0.99</td>\n    </tr>\n    <tr>\n      <th>1</th>\n      <td>1</td>\n      <td>Ates</td>\n      <td>male</td>\n      <td>0.90</td>\n    </tr>\n    <tr>\n      <th>2</th>\n      <td>2</td>\n      <td>bundeskanzlerin</td>\n      <td>male</td>\n      <td>1.00</td>\n    </tr>\n    <tr>\n      <th>3</th>\n      <td>3</td>\n      <td>Michael</td>\n      <td>male</td>\n      <td>0.99</td>\n    </tr>\n    <tr>\n      <th>4</th>\n      <td>4</td>\n      <td>Maurice</td>\n      <td>male</td>\n      <td>0.98</td>\n    </tr>\n  </tbody>\n</table>\n</div>"
     },
     "execution_count": 9,
     "metadata": {},
     "output_type": "execute_result"
    }
   ],
   "source": [
    "btw17_name_gender_df = pd.read_csv('./btw17_name_gender_df.csv')\n",
    "btw17_name_gender_df.head(5)"
   ],
   "metadata": {
    "collapsed": false,
    "pycharm": {
     "name": "#%%\n"
    }
   }
  },
  {
   "cell_type": "code",
   "execution_count": 10,
   "outputs": [
    {
     "data": {
      "text/plain": "   Unnamed: 0                 Name  Born      Party         Bundesland  \\\n0           0   Wolfgang Stefinger  1985        CSU             Bayern   \n1           1        Kai Whittaker  1985        CDU  Baden-Württemberg   \n2           2    Katrin Albsteiger  1983        CSU             Bayern   \n3           3  Susanna Karawanskij  1980  DIE LINKE            Sachsen   \n4           4        Florian Oßner  1980        CSU             Bayern   \n\n   Gender   Age  \n0    male  35.0  \n1    male  35.0  \n2  female  37.0  \n3  female  40.0  \n4    male  40.0  ",
      "text/html": "<div>\n<style scoped>\n    .dataframe tbody tr th:only-of-type {\n        vertical-align: middle;\n    }\n\n    .dataframe tbody tr th {\n        vertical-align: top;\n    }\n\n    .dataframe thead th {\n        text-align: right;\n    }\n</style>\n<table border=\"1\" class=\"dataframe\">\n  <thead>\n    <tr style=\"text-align: right;\">\n      <th></th>\n      <th>Unnamed: 0</th>\n      <th>Name</th>\n      <th>Born</th>\n      <th>Party</th>\n      <th>Bundesland</th>\n      <th>Gender</th>\n      <th>Age</th>\n    </tr>\n  </thead>\n  <tbody>\n    <tr>\n      <th>0</th>\n      <td>0</td>\n      <td>Wolfgang Stefinger</td>\n      <td>1985</td>\n      <td>CSU</td>\n      <td>Bayern</td>\n      <td>male</td>\n      <td>35.0</td>\n    </tr>\n    <tr>\n      <th>1</th>\n      <td>1</td>\n      <td>Kai Whittaker</td>\n      <td>1985</td>\n      <td>CDU</td>\n      <td>Baden-Württemberg</td>\n      <td>male</td>\n      <td>35.0</td>\n    </tr>\n    <tr>\n      <th>2</th>\n      <td>2</td>\n      <td>Katrin Albsteiger</td>\n      <td>1983</td>\n      <td>CSU</td>\n      <td>Bayern</td>\n      <td>female</td>\n      <td>37.0</td>\n    </tr>\n    <tr>\n      <th>3</th>\n      <td>3</td>\n      <td>Susanna Karawanskij</td>\n      <td>1980</td>\n      <td>DIE LINKE</td>\n      <td>Sachsen</td>\n      <td>female</td>\n      <td>40.0</td>\n    </tr>\n    <tr>\n      <th>4</th>\n      <td>4</td>\n      <td>Florian Oßner</td>\n      <td>1980</td>\n      <td>CSU</td>\n      <td>Bayern</td>\n      <td>male</td>\n      <td>40.0</td>\n    </tr>\n  </tbody>\n</table>\n</div>"
     },
     "execution_count": 10,
     "metadata": {},
     "output_type": "execute_result"
    }
   ],
   "source": [
    "politician_df = pd.read_csv('./politiker.csv')\n",
    "politician_df.head(5)"
   ],
   "metadata": {
    "collapsed": false,
    "pycharm": {
     "name": "#%%\n"
    }
   }
  },
  {
   "cell_type": "code",
   "execution_count": 11,
   "outputs": [
    {
     "data": {
      "text/plain": "   Unnamed: 0                 Name  Born      Party         Bundesland  \\\n0           0   Wolfgang Stefinger  1985        CSU             Bayern   \n1           1        Kai Whittaker  1985        CDU  Baden-Württemberg   \n2           2    Katrin Albsteiger  1983        CSU             Bayern   \n3           3  Susanna Karawanskij  1980  DIE LINKE            Sachsen   \n4           4        Florian Oßner  1980        CSU             Bayern   \n\n   Gender   Age    f_name       l_name  \n0    male  35.0  Wolfgang    Stefinger  \n1    male  35.0       Kai    Whittaker  \n2  female  37.0    Katrin   Albsteiger  \n3  female  40.0   Susanna  Karawanskij  \n4    male  40.0   Florian        Oßner  ",
      "text/html": "<div>\n<style scoped>\n    .dataframe tbody tr th:only-of-type {\n        vertical-align: middle;\n    }\n\n    .dataframe tbody tr th {\n        vertical-align: top;\n    }\n\n    .dataframe thead th {\n        text-align: right;\n    }\n</style>\n<table border=\"1\" class=\"dataframe\">\n  <thead>\n    <tr style=\"text-align: right;\">\n      <th></th>\n      <th>Unnamed: 0</th>\n      <th>Name</th>\n      <th>Born</th>\n      <th>Party</th>\n      <th>Bundesland</th>\n      <th>Gender</th>\n      <th>Age</th>\n      <th>f_name</th>\n      <th>l_name</th>\n    </tr>\n  </thead>\n  <tbody>\n    <tr>\n      <th>0</th>\n      <td>0</td>\n      <td>Wolfgang Stefinger</td>\n      <td>1985</td>\n      <td>CSU</td>\n      <td>Bayern</td>\n      <td>male</td>\n      <td>35.0</td>\n      <td>Wolfgang</td>\n      <td>Stefinger</td>\n    </tr>\n    <tr>\n      <th>1</th>\n      <td>1</td>\n      <td>Kai Whittaker</td>\n      <td>1985</td>\n      <td>CDU</td>\n      <td>Baden-Württemberg</td>\n      <td>male</td>\n      <td>35.0</td>\n      <td>Kai</td>\n      <td>Whittaker</td>\n    </tr>\n    <tr>\n      <th>2</th>\n      <td>2</td>\n      <td>Katrin Albsteiger</td>\n      <td>1983</td>\n      <td>CSU</td>\n      <td>Bayern</td>\n      <td>female</td>\n      <td>37.0</td>\n      <td>Katrin</td>\n      <td>Albsteiger</td>\n    </tr>\n    <tr>\n      <th>3</th>\n      <td>3</td>\n      <td>Susanna Karawanskij</td>\n      <td>1980</td>\n      <td>DIE LINKE</td>\n      <td>Sachsen</td>\n      <td>female</td>\n      <td>40.0</td>\n      <td>Susanna</td>\n      <td>Karawanskij</td>\n    </tr>\n    <tr>\n      <th>4</th>\n      <td>4</td>\n      <td>Florian Oßner</td>\n      <td>1980</td>\n      <td>CSU</td>\n      <td>Bayern</td>\n      <td>male</td>\n      <td>40.0</td>\n      <td>Florian</td>\n      <td>Oßner</td>\n    </tr>\n  </tbody>\n</table>\n</div>"
     },
     "execution_count": 11,
     "metadata": {},
     "output_type": "execute_result"
    }
   ],
   "source": [
    "politician_df[['f_name','l_name']] = politician_df['Name'].loc[politician_df['Name'].str.split().str.len() == 2].str.split(expand=True)\n",
    "politician_df.head(5)"
   ],
   "metadata": {
    "collapsed": false,
    "pycharm": {
     "name": "#%%\n"
    }
   }
  },
  {
   "cell_type": "code",
   "execution_count": 12,
   "outputs": [
    {
     "data": {
      "text/plain": "   Unnamed: 0  Gender    f_name\n0           0    male  Wolfgang\n1           1    male       Kai\n2           2  female    Katrin\n3           3  female   Susanna\n4           4    male   Florian",
      "text/html": "<div>\n<style scoped>\n    .dataframe tbody tr th:only-of-type {\n        vertical-align: middle;\n    }\n\n    .dataframe tbody tr th {\n        vertical-align: top;\n    }\n\n    .dataframe thead th {\n        text-align: right;\n    }\n</style>\n<table border=\"1\" class=\"dataframe\">\n  <thead>\n    <tr style=\"text-align: right;\">\n      <th></th>\n      <th>Unnamed: 0</th>\n      <th>Gender</th>\n      <th>f_name</th>\n    </tr>\n  </thead>\n  <tbody>\n    <tr>\n      <th>0</th>\n      <td>0</td>\n      <td>male</td>\n      <td>Wolfgang</td>\n    </tr>\n    <tr>\n      <th>1</th>\n      <td>1</td>\n      <td>male</td>\n      <td>Kai</td>\n    </tr>\n    <tr>\n      <th>2</th>\n      <td>2</td>\n      <td>female</td>\n      <td>Katrin</td>\n    </tr>\n    <tr>\n      <th>3</th>\n      <td>3</td>\n      <td>female</td>\n      <td>Susanna</td>\n    </tr>\n    <tr>\n      <th>4</th>\n      <td>4</td>\n      <td>male</td>\n      <td>Florian</td>\n    </tr>\n  </tbody>\n</table>\n</div>"
     },
     "execution_count": 12,
     "metadata": {},
     "output_type": "execute_result"
    }
   ],
   "source": [
    "drop_politician_df = politician_df.drop(['Name','Born','Party','Bundesland','Age','l_name'], axis=1)\n",
    "drop_politician_df.head(5)"
   ],
   "metadata": {
    "collapsed": false,
    "pycharm": {
     "name": "#%%\n"
    }
   }
  },
  {
   "cell_type": "code",
   "execution_count": 13,
   "outputs": [
    {
     "data": {
      "text/plain": "   Unnamed: 0           f_name gender\n0           0           Gunnar   male\n1           1             Ates   male\n2           2  bundeskanzlerin   male\n3           3          Michael   male\n4           4          Maurice   male",
      "text/html": "<div>\n<style scoped>\n    .dataframe tbody tr th:only-of-type {\n        vertical-align: middle;\n    }\n\n    .dataframe tbody tr th {\n        vertical-align: top;\n    }\n\n    .dataframe thead th {\n        text-align: right;\n    }\n</style>\n<table border=\"1\" class=\"dataframe\">\n  <thead>\n    <tr style=\"text-align: right;\">\n      <th></th>\n      <th>Unnamed: 0</th>\n      <th>f_name</th>\n      <th>gender</th>\n    </tr>\n  </thead>\n  <tbody>\n    <tr>\n      <th>0</th>\n      <td>0</td>\n      <td>Gunnar</td>\n      <td>male</td>\n    </tr>\n    <tr>\n      <th>1</th>\n      <td>1</td>\n      <td>Ates</td>\n      <td>male</td>\n    </tr>\n    <tr>\n      <th>2</th>\n      <td>2</td>\n      <td>bundeskanzlerin</td>\n      <td>male</td>\n    </tr>\n    <tr>\n      <th>3</th>\n      <td>3</td>\n      <td>Michael</td>\n      <td>male</td>\n    </tr>\n    <tr>\n      <th>4</th>\n      <td>4</td>\n      <td>Maurice</td>\n      <td>male</td>\n    </tr>\n  </tbody>\n</table>\n</div>"
     },
     "execution_count": 13,
     "metadata": {},
     "output_type": "execute_result"
    }
   ],
   "source": [
    "new_btw17_name_gender_df = btw17_name_gender_df.drop(['gender_probability'], axis=1)\n",
    "new_btw17_name_gender_df.head(5)"
   ],
   "metadata": {
    "collapsed": false,
    "pycharm": {
     "name": "#%%\n"
    }
   }
  },
  {
   "cell_type": "code",
   "execution_count": 14,
   "outputs": [
    {
     "data": {
      "text/plain": "   Unnamed: 0    f_name  gender\n0           0  Wolfgang    male\n1           1       Kai    male\n2           2    Katrin  female\n3           3   Susanna  female\n4           4   Florian    male",
      "text/html": "<div>\n<style scoped>\n    .dataframe tbody tr th:only-of-type {\n        vertical-align: middle;\n    }\n\n    .dataframe tbody tr th {\n        vertical-align: top;\n    }\n\n    .dataframe thead th {\n        text-align: right;\n    }\n</style>\n<table border=\"1\" class=\"dataframe\">\n  <thead>\n    <tr style=\"text-align: right;\">\n      <th></th>\n      <th>Unnamed: 0</th>\n      <th>f_name</th>\n      <th>gender</th>\n    </tr>\n  </thead>\n  <tbody>\n    <tr>\n      <th>0</th>\n      <td>0</td>\n      <td>Wolfgang</td>\n      <td>male</td>\n    </tr>\n    <tr>\n      <th>1</th>\n      <td>1</td>\n      <td>Kai</td>\n      <td>male</td>\n    </tr>\n    <tr>\n      <th>2</th>\n      <td>2</td>\n      <td>Katrin</td>\n      <td>female</td>\n    </tr>\n    <tr>\n      <th>3</th>\n      <td>3</td>\n      <td>Susanna</td>\n      <td>female</td>\n    </tr>\n    <tr>\n      <th>4</th>\n      <td>4</td>\n      <td>Florian</td>\n      <td>male</td>\n    </tr>\n  </tbody>\n</table>\n</div>"
     },
     "execution_count": 14,
     "metadata": {},
     "output_type": "execute_result"
    }
   ],
   "source": [
    "new_politician_df = drop_politician_df.rename(columns={'Gender': 'gender'}, index={'ONE': 'Row_1'})\n",
    "new_politician_df = new_politician_df[['Unnamed: 0','f_name','gender']]\n",
    "new_politician_df.head(5)"
   ],
   "metadata": {
    "collapsed": false,
    "pycharm": {
     "name": "#%%\n"
    }
   }
  },
  {
   "cell_type": "code",
   "execution_count": 15,
   "outputs": [
    {
     "name": "stdout",
     "output_type": "stream",
     "text": [
      "2510\n",
      "990\n"
     ]
    }
   ],
   "source": [
    "print(len(new_politician_df))\n",
    "print(len(new_btw17_name_gender_df))"
   ],
   "metadata": {
    "collapsed": false,
    "pycharm": {
     "name": "#%%\n"
    }
   }
  },
  {
   "cell_type": "code",
   "execution_count": 16,
   "outputs": [],
   "source": [
    "clean_politician_df = new_politician_df.dropna()\n",
    "clean_new_btw17_name_gender_df = new_btw17_name_gender_df.dropna()"
   ],
   "metadata": {
    "collapsed": false,
    "pycharm": {
     "name": "#%%\n"
    }
   }
  },
  {
   "cell_type": "code",
   "execution_count": 17,
   "outputs": [
    {
     "name": "stdout",
     "output_type": "stream",
     "text": [
      "1188\n",
      "824\n"
     ]
    }
   ],
   "source": [
    "print(len(clean_politician_df))\n",
    "print(len(clean_new_btw17_name_gender_df))"
   ],
   "metadata": {
    "collapsed": false,
    "pycharm": {
     "name": "#%%\n"
    }
   }
  },
  {
   "cell_type": "code",
   "execution_count": 18,
   "outputs": [],
   "source": [
    "clean_politician_df = clean_politician_df.reset_index(drop=True)\n",
    "clean_new_btw17_name_gender_df = clean_new_btw17_name_gender_df.reset_index(drop=True)"
   ],
   "metadata": {
    "collapsed": false,
    "pycharm": {
     "name": "#%%\n"
    }
   }
  },
  {
   "cell_type": "code",
   "execution_count": 19,
   "outputs": [
    {
     "name": "stdout",
     "output_type": "stream",
     "text": [
      "     index   f_name btw17_gender index politician_gender\n",
      "0        1     Ates         male   725              male\n",
      "1        3  Michael         male    34              male\n",
      "2        3  Michael         male    65              male\n",
      "3        3  Michael         male    71              male\n",
      "4        3  Michael         male   144              male\n",
      "...    ...      ...          ...   ...               ...\n",
      "1158   984  Bettina       female   919            female\n",
      "1159   984  Bettina       female   929            female\n",
      "1160   986   Silvia       female   848            female\n",
      "1161   987      Max         male   529              male\n",
      "1162   987      Max         male   718              male\n",
      "\n",
      "[1163 rows x 5 columns]\n"
     ]
    }
   ],
   "source": [
    "merged_df = clean_new_btw17_name_gender_df.merge(clean_politician_df, on='f_name').astype(str)\n",
    "merged_df.columns = ['index','f_name','btw17_gender','index','politician_gender']\n",
    "print(merged_df)"
   ],
   "metadata": {
    "collapsed": false,
    "pycharm": {
     "name": "#%%\n"
    }
   }
  },
  {
   "cell_type": "code",
   "execution_count": 20,
   "outputs": [
    {
     "name": "stdout",
     "output_type": "stream",
     "text": [
      "btw17_gender       female  male   All\n",
      "politician_gender                    \n",
      "female                383    25   408\n",
      "male                   10   745   755\n",
      "All                   393   770  1163\n"
     ]
    }
   ],
   "source": [
    "gender_x = merged_df['btw17_gender']\n",
    "gender_y = merged_df['politician_gender']\n",
    "\n",
    "df_confusion = pd.crosstab(gender_y, gender_x, margins=True)\n",
    "print(df_confusion)"
   ],
   "metadata": {
    "collapsed": false,
    "pycharm": {
     "name": "#%%\n"
    }
   }
  },
  {
   "cell_type": "code",
   "execution_count": 22,
   "outputs": [
    {
     "data": {
      "text/plain": "<Figure size 432x288 with 0 Axes>"
     },
     "metadata": {},
     "output_type": "display_data"
    },
    {
     "data": {
      "text/plain": "<Figure size 432x288 with 1 Axes>",
      "image/png": "[encoded data removed]"
     },
     "metadata": {
      "needs_background": "light"
     },
     "output_type": "display_data"
    }
   ],
   "source": [
    "plt.clf()\n",
    "fig = plt.figure()\n",
    "ax = fig.add_subplot(111)\n",
    "ax.set_aspect(1)\n",
    "res = sn.heatmap(df_confusion.T, annot=True, fmt='.2f', cmap=\"YlGnBu\", cbar=False)\n",
    "plt.title('Confusion Matrix')\n",
    "plt.savefig(\"confusion_matrix.png\", bbox_inches='tight', dpi=100)\n",
    "plt.show()"
   ],
   "metadata": {
    "collapsed": false,
    "pycharm": {
     "name": "#%%\n"
    }
   }
  },
  {
   "cell_type": "markdown",
   "source": [
    "## Gender Cluster Evaluation"
   ],
   "metadata": {
    "collapsed": false,
    "pycharm": {
     "name": "#%% md\n"
    }
   },
   "execution_count": 23
  },
  {
   "cell_type": "code",
   "execution_count": 455,
   "outputs": [],
   "source": [
    "cluster_count_female_df = pd.read_csv('./cluster_count_female.csv')\n",
    "cluster_count_male_df  = pd.read_csv('./male_cluster_counts.csv')"
   ],
   "metadata": {
    "collapsed": false,
    "pycharm": {
     "name": "#%%\n"
    }
   }
  },
  {
   "cell_type": "code",
   "execution_count": 456,
   "outputs": [
    {
     "data": {
      "text/plain": "            cluster_label                                      cluster_terms  \\\n0      unternehmen_marken  ['bauhaus', 'prosieben', 'sparkasse', 'vorwerk...   \n1           sport_hobbies  ['angeln', 'poker', 'liga', 'club', 'league', ...   \n2             nachrichten  ['kicker', 'stuttgarter', 'tagesspiegel', 'ver...   \n3        militaer_polizei  ['oberstleutnant', 'oberleutnant', 'panzer', '...   \n4      technologie_medien  ['information', 'laptop', 'browser', 'javascri...   \n5            kunst_kultur  ['live', 'radio', 'broadcast', 'songs', 'cds',...   \n6                 bildung  ['schüler', 'gesamtschule', 'realschule', 'obe...   \n7  wissenschaft_forschung  ['fraunhofer', 'biologie', 'chemie', 'forschun...   \n8           mode_aussehen  ['haar', 'jacke', 'schuh', 'pumps', 'outfit', ...   \n9             privatleben  ['ehe', 'oma', 'schwester', 'bruder', 'sohn', ...   \n\n   female_count  id  \n0      153774.0   1  \n1      387765.0   2  \n2      164599.0   3  \n3       46554.0   4  \n4     5164307.0   5  \n5      862283.0   6  \n6       94751.0   7  \n7       27145.0   8  \n8       41138.0   9  \n9     2323851.0  10  ",
      "text/html": "<div>\n<style scoped>\n    .dataframe tbody tr th:only-of-type {\n        vertical-align: middle;\n    }\n\n    .dataframe tbody tr th {\n        vertical-align: top;\n    }\n\n    .dataframe thead th {\n        text-align: right;\n    }\n</style>\n<table border=\"1\" class=\"dataframe\">\n  <thead>\n    <tr style=\"text-align: right;\">\n      <th></th>\n      <th>cluster_label</th>\n      <th>cluster_terms</th>\n      <th>female_count</th>\n      <th>id</th>\n    </tr>\n  </thead>\n  <tbody>\n    <tr>\n      <th>0</th>\n      <td>unternehmen_marken</td>\n      <td>['bauhaus', 'prosieben', 'sparkasse', 'vorwerk...</td>\n      <td>153774.0</td>\n      <td>1</td>\n    </tr>\n    <tr>\n      <th>1</th>\n      <td>sport_hobbies</td>\n      <td>['angeln', 'poker', 'liga', 'club', 'league', ...</td>\n      <td>387765.0</td>\n      <td>2</td>\n    </tr>\n    <tr>\n      <th>2</th>\n      <td>nachrichten</td>\n      <td>['kicker', 'stuttgarter', 'tagesspiegel', 'ver...</td>\n      <td>164599.0</td>\n      <td>3</td>\n    </tr>\n    <tr>\n      <th>3</th>\n      <td>militaer_polizei</td>\n      <td>['oberstleutnant', 'oberleutnant', 'panzer', '...</td>\n      <td>46554.0</td>\n      <td>4</td>\n    </tr>\n    <tr>\n      <th>4</th>\n      <td>technologie_medien</td>\n      <td>['information', 'laptop', 'browser', 'javascri...</td>\n      <td>5164307.0</td>\n      <td>5</td>\n    </tr>\n    <tr>\n      <th>5</th>\n      <td>kunst_kultur</td>\n      <td>['live', 'radio', 'broadcast', 'songs', 'cds',...</td>\n      <td>862283.0</td>\n      <td>6</td>\n    </tr>\n    <tr>\n      <th>6</th>\n      <td>bildung</td>\n      <td>['schüler', 'gesamtschule', 'realschule', 'obe...</td>\n      <td>94751.0</td>\n      <td>7</td>\n    </tr>\n    <tr>\n      <th>7</th>\n      <td>wissenschaft_forschung</td>\n      <td>['fraunhofer', 'biologie', 'chemie', 'forschun...</td>\n      <td>27145.0</td>\n      <td>8</td>\n    </tr>\n    <tr>\n      <th>8</th>\n      <td>mode_aussehen</td>\n      <td>['haar', 'jacke', 'schuh', 'pumps', 'outfit', ...</td>\n      <td>41138.0</td>\n      <td>9</td>\n    </tr>\n    <tr>\n      <th>9</th>\n      <td>privatleben</td>\n      <td>['ehe', 'oma', 'schwester', 'bruder', 'sohn', ...</td>\n      <td>2323851.0</td>\n      <td>10</td>\n    </tr>\n  </tbody>\n</table>\n</div>"
     },
     "execution_count": 456,
     "metadata": {},
     "output_type": "execute_result"
    }
   ],
   "source": [
    "cluster_count_female_df[\"id\"] = cluster_count_female_df.index + 1\n",
    "cluster_count_female_df.head(10)"
   ],
   "metadata": {
    "collapsed": false,
    "pycharm": {
     "name": "#%%\n"
    }
   }
  },
  {
   "cell_type": "code",
   "execution_count": 457,
   "outputs": [
    {
     "data": {
      "text/plain": "    4759640  id\n0   1160934   1\n1   1273553   2\n2    422864   3\n3    256233   4\n4  10949863   5\n5   2917762   6\n6    639067   7\n7    216907   8\n8     24418   9\n9   6582455  10",
      "text/html": "<div>\n<style scoped>\n    .dataframe tbody tr th:only-of-type {\n        vertical-align: middle;\n    }\n\n    .dataframe tbody tr th {\n        vertical-align: top;\n    }\n\n    .dataframe thead th {\n        text-align: right;\n    }\n</style>\n<table border=\"1\" class=\"dataframe\">\n  <thead>\n    <tr style=\"text-align: right;\">\n      <th></th>\n      <th>4759640</th>\n      <th>id</th>\n    </tr>\n  </thead>\n  <tbody>\n    <tr>\n      <th>0</th>\n      <td>1160934</td>\n      <td>1</td>\n    </tr>\n    <tr>\n      <th>1</th>\n      <td>1273553</td>\n      <td>2</td>\n    </tr>\n    <tr>\n      <th>2</th>\n      <td>422864</td>\n      <td>3</td>\n    </tr>\n    <tr>\n      <th>3</th>\n      <td>256233</td>\n      <td>4</td>\n    </tr>\n    <tr>\n      <th>4</th>\n      <td>10949863</td>\n      <td>5</td>\n    </tr>\n    <tr>\n      <th>5</th>\n      <td>2917762</td>\n      <td>6</td>\n    </tr>\n    <tr>\n      <th>6</th>\n      <td>639067</td>\n      <td>7</td>\n    </tr>\n    <tr>\n      <th>7</th>\n      <td>216907</td>\n      <td>8</td>\n    </tr>\n    <tr>\n      <th>8</th>\n      <td>24418</td>\n      <td>9</td>\n    </tr>\n    <tr>\n      <th>9</th>\n      <td>6582455</td>\n      <td>10</td>\n    </tr>\n  </tbody>\n</table>\n</div>"
     },
     "execution_count": 457,
     "metadata": {},
     "output_type": "execute_result"
    }
   ],
   "source": [
    "cluster_count_male_df[\"id\"] = cluster_count_female_df.index + 1\n",
    "cluster_count_male_df.head(10)"
   ],
   "metadata": {
    "collapsed": false,
    "pycharm": {
     "name": "#%%\n"
    }
   }
  },
  {
   "cell_type": "code",
   "execution_count": 458,
   "outputs": [
    {
     "data": {
      "text/plain": "   male_count  id\n0     1160934   1\n1     1273553   2\n2      422864   3\n3      256233   4\n4    10949863   5\n5     2917762   6\n6      639067   7\n7      216907   8\n8       24418   9\n9     6582455  10",
      "text/html": "<div>\n<style scoped>\n    .dataframe tbody tr th:only-of-type {\n        vertical-align: middle;\n    }\n\n    .dataframe tbody tr th {\n        vertical-align: top;\n    }\n\n    .dataframe thead th {\n        text-align: right;\n    }\n</style>\n<table border=\"1\" class=\"dataframe\">\n  <thead>\n    <tr style=\"text-align: right;\">\n      <th></th>\n      <th>male_count</th>\n      <th>id</th>\n    </tr>\n  </thead>\n  <tbody>\n    <tr>\n      <th>0</th>\n      <td>1160934</td>\n      <td>1</td>\n    </tr>\n    <tr>\n      <th>1</th>\n      <td>1273553</td>\n      <td>2</td>\n    </tr>\n    <tr>\n      <th>2</th>\n      <td>422864</td>\n      <td>3</td>\n    </tr>\n    <tr>\n      <th>3</th>\n      <td>256233</td>\n      <td>4</td>\n    </tr>\n    <tr>\n      <th>4</th>\n      <td>10949863</td>\n      <td>5</td>\n    </tr>\n    <tr>\n      <th>5</th>\n      <td>2917762</td>\n      <td>6</td>\n    </tr>\n    <tr>\n      <th>6</th>\n      <td>639067</td>\n      <td>7</td>\n    </tr>\n    <tr>\n      <th>7</th>\n      <td>216907</td>\n      <td>8</td>\n    </tr>\n    <tr>\n      <th>8</th>\n      <td>24418</td>\n      <td>9</td>\n    </tr>\n    <tr>\n      <th>9</th>\n      <td>6582455</td>\n      <td>10</td>\n    </tr>\n  </tbody>\n</table>\n</div>"
     },
     "execution_count": 458,
     "metadata": {},
     "output_type": "execute_result"
    }
   ],
   "source": [
    "cluster_count_male_df.columns = ['male_count','id']\n",
    "cluster_count_male_df.head(10)"
   ],
   "metadata": {
    "collapsed": false,
    "pycharm": {
     "name": "#%%\n"
    }
   }
  },
  {
   "cell_type": "code",
   "execution_count": 459,
   "outputs": [
    {
     "name": "stdout",
     "output_type": "stream",
     "text": [
      "Index(['male_count', 'id'], dtype='object')\n",
      "Index(['cluster_label', 'cluster_terms', 'female_count', 'id'], dtype='object')\n"
     ]
    }
   ],
   "source": [
    "print(cluster_count_male_df.columns)\n",
    "print(cluster_count_female_df.columns)"
   ],
   "metadata": {
    "collapsed": false,
    "pycharm": {
     "name": "#%%\n"
    }
   }
  },
  {
   "cell_type": "code",
   "execution_count": 460,
   "outputs": [
    {
     "data": {
      "text/plain": "            cluster_label                                      cluster_terms  \\\n0      unternehmen_marken  ['bauhaus', 'prosieben', 'sparkasse', 'vorwerk...   \n1           sport_hobbies  ['angeln', 'poker', 'liga', 'club', 'league', ...   \n2             nachrichten  ['kicker', 'stuttgarter', 'tagesspiegel', 'ver...   \n3        militaer_polizei  ['oberstleutnant', 'oberleutnant', 'panzer', '...   \n4      technologie_medien  ['information', 'laptop', 'browser', 'javascri...   \n5            kunst_kultur  ['live', 'radio', 'broadcast', 'songs', 'cds',...   \n6                 bildung  ['schüler', 'gesamtschule', 'realschule', 'obe...   \n7  wissenschaft_forschung  ['fraunhofer', 'biologie', 'chemie', 'forschun...   \n8           mode_aussehen  ['haar', 'jacke', 'schuh', 'pumps', 'outfit', ...   \n9             privatleben  ['ehe', 'oma', 'schwester', 'bruder', 'sohn', ...   \n\n  female_count  id male_count  \n0     153774.0   1    1160934  \n1     387765.0   2    1273553  \n2     164599.0   3     422864  \n3      46554.0   4     256233  \n4    5164307.0   5   10949863  \n5     862283.0   6    2917762  \n6      94751.0   7     639067  \n7      27145.0   8     216907  \n8      41138.0   9      24418  \n9    2323851.0  10    6582455  ",
      "text/html": "<div>\n<style scoped>\n    .dataframe tbody tr th:only-of-type {\n        vertical-align: middle;\n    }\n\n    .dataframe tbody tr th {\n        vertical-align: top;\n    }\n\n    .dataframe thead th {\n        text-align: right;\n    }\n</style>\n<table border=\"1\" class=\"dataframe\">\n  <thead>\n    <tr style=\"text-align: right;\">\n      <th></th>\n      <th>cluster_label</th>\n      <th>cluster_terms</th>\n      <th>female_count</th>\n      <th>id</th>\n      <th>male_count</th>\n    </tr>\n  </thead>\n  <tbody>\n    <tr>\n      <th>0</th>\n      <td>unternehmen_marken</td>\n      <td>['bauhaus', 'prosieben', 'sparkasse', 'vorwerk...</td>\n      <td>153774.0</td>\n      <td>1</td>\n      <td>1160934</td>\n    </tr>\n    <tr>\n      <th>1</th>\n      <td>sport_hobbies</td>\n      <td>['angeln', 'poker', 'liga', 'club', 'league', ...</td>\n      <td>387765.0</td>\n      <td>2</td>\n      <td>1273553</td>\n    </tr>\n    <tr>\n      <th>2</th>\n      <td>nachrichten</td>\n      <td>['kicker', 'stuttgarter', 'tagesspiegel', 'ver...</td>\n      <td>164599.0</td>\n      <td>3</td>\n      <td>422864</td>\n    </tr>\n    <tr>\n      <th>3</th>\n      <td>militaer_polizei</td>\n      <td>['oberstleutnant', 'oberleutnant', 'panzer', '...</td>\n      <td>46554.0</td>\n      <td>4</td>\n      <td>256233</td>\n    </tr>\n    <tr>\n      <th>4</th>\n      <td>technologie_medien</td>\n      <td>['information', 'laptop', 'browser', 'javascri...</td>\n      <td>5164307.0</td>\n      <td>5</td>\n      <td>10949863</td>\n    </tr>\n    <tr>\n      <th>5</th>\n      <td>kunst_kultur</td>\n      <td>['live', 'radio', 'broadcast', 'songs', 'cds',...</td>\n      <td>862283.0</td>\n      <td>6</td>\n      <td>2917762</td>\n    </tr>\n    <tr>\n      <th>6</th>\n      <td>bildung</td>\n      <td>['schüler', 'gesamtschule', 'realschule', 'obe...</td>\n      <td>94751.0</td>\n      <td>7</td>\n      <td>639067</td>\n    </tr>\n    <tr>\n      <th>7</th>\n      <td>wissenschaft_forschung</td>\n      <td>['fraunhofer', 'biologie', 'chemie', 'forschun...</td>\n      <td>27145.0</td>\n      <td>8</td>\n      <td>216907</td>\n    </tr>\n    <tr>\n      <th>8</th>\n      <td>mode_aussehen</td>\n      <td>['haar', 'jacke', 'schuh', 'pumps', 'outfit', ...</td>\n      <td>41138.0</td>\n      <td>9</td>\n      <td>24418</td>\n    </tr>\n    <tr>\n      <th>9</th>\n      <td>privatleben</td>\n      <td>['ehe', 'oma', 'schwester', 'bruder', 'sohn', ...</td>\n      <td>2323851.0</td>\n      <td>10</td>\n      <td>6582455</td>\n    </tr>\n  </tbody>\n</table>\n</div>"
     },
     "execution_count": 460,
     "metadata": {},
     "output_type": "execute_result"
    }
   ],
   "source": [
    "cluster_counts_df = cluster_count_female_df.merge(cluster_count_male_df, on='id').astype(str)\n",
    "cluster_counts_df.columns = ['cluster_label','cluster_terms','female_count','id','male_count']\n",
    "cluster_counts_df.head(10)"
   ],
   "metadata": {
    "collapsed": false,
    "pycharm": {
     "name": "#%%\n"
    }
   }
  },
  {
   "cell_type": "code",
   "execution_count": 461,
   "outputs": [
    {
     "data": {
      "text/plain": "   id female_count male_count\n0   1     153774.0    1160934\n1   2     387765.0    1273553\n2   3     164599.0     422864\n3   4      46554.0     256233\n4   5    5164307.0   10949863\n5   6     862283.0    2917762\n6   7      94751.0     639067\n7   8      27145.0     216907\n8   9      41138.0      24418\n9  10    2323851.0    6582455",
      "text/html": "<div>\n<style scoped>\n    .dataframe tbody tr th:only-of-type {\n        vertical-align: middle;\n    }\n\n    .dataframe tbody tr th {\n        vertical-align: top;\n    }\n\n    .dataframe thead th {\n        text-align: right;\n    }\n</style>\n<table border=\"1\" class=\"dataframe\">\n  <thead>\n    <tr style=\"text-align: right;\">\n      <th></th>\n      <th>id</th>\n      <th>female_count</th>\n      <th>male_count</th>\n    </tr>\n  </thead>\n  <tbody>\n    <tr>\n      <th>0</th>\n      <td>1</td>\n      <td>153774.0</td>\n      <td>1160934</td>\n    </tr>\n    <tr>\n      <th>1</th>\n      <td>2</td>\n      <td>387765.0</td>\n      <td>1273553</td>\n    </tr>\n    <tr>\n      <th>2</th>\n      <td>3</td>\n      <td>164599.0</td>\n      <td>422864</td>\n    </tr>\n    <tr>\n      <th>3</th>\n      <td>4</td>\n      <td>46554.0</td>\n      <td>256233</td>\n    </tr>\n    <tr>\n      <th>4</th>\n      <td>5</td>\n      <td>5164307.0</td>\n      <td>10949863</td>\n    </tr>\n    <tr>\n      <th>5</th>\n      <td>6</td>\n      <td>862283.0</td>\n      <td>2917762</td>\n    </tr>\n    <tr>\n      <th>6</th>\n      <td>7</td>\n      <td>94751.0</td>\n      <td>639067</td>\n    </tr>\n    <tr>\n      <th>7</th>\n      <td>8</td>\n      <td>27145.0</td>\n      <td>216907</td>\n    </tr>\n    <tr>\n      <th>8</th>\n      <td>9</td>\n      <td>41138.0</td>\n      <td>24418</td>\n    </tr>\n    <tr>\n      <th>9</th>\n      <td>10</td>\n      <td>2323851.0</td>\n      <td>6582455</td>\n    </tr>\n  </tbody>\n</table>\n</div>"
     },
     "execution_count": 461,
     "metadata": {},
     "output_type": "execute_result"
    }
   ],
   "source": [
    "female_male_df = cluster_counts_df[['id','female_count', 'male_count']]\n",
    "\n",
    "female_male_df.head(10)"
   ],
   "metadata": {
    "collapsed": false,
    "pycharm": {
     "name": "#%%\n"
    }
   }
  },
  {
   "cell_type": "code",
   "execution_count": 462,
   "outputs": [
    {
     "data": {
      "text/plain": "         id  female_norm  male_norm\n0  0.000000     0.029776   0.104718\n1  0.058824     0.075085   0.115018\n2  0.117647     0.031872   0.037215\n3  0.176471     0.009014   0.021975\n4  0.235294     1.000000   1.000000\n5  0.294118     0.166969   0.265395\n6  0.352941     0.018347   0.056989\n7  0.411765     0.005256   0.018379\n8  0.470588     0.007965   0.000774\n9  0.529412     0.449983   0.600563",
      "text/html": "<div>\n<style scoped>\n    .dataframe tbody tr th:only-of-type {\n        vertical-align: middle;\n    }\n\n    .dataframe tbody tr th {\n        vertical-align: top;\n    }\n\n    .dataframe thead th {\n        text-align: right;\n    }\n</style>\n<table border=\"1\" class=\"dataframe\">\n  <thead>\n    <tr style=\"text-align: right;\">\n      <th></th>\n      <th>id</th>\n      <th>female_norm</th>\n      <th>male_norm</th>\n    </tr>\n  </thead>\n  <tbody>\n    <tr>\n      <th>0</th>\n      <td>0.000000</td>\n      <td>0.029776</td>\n      <td>0.104718</td>\n    </tr>\n    <tr>\n      <th>1</th>\n      <td>0.058824</td>\n      <td>0.075085</td>\n      <td>0.115018</td>\n    </tr>\n    <tr>\n      <th>2</th>\n      <td>0.117647</td>\n      <td>0.031872</td>\n      <td>0.037215</td>\n    </tr>\n    <tr>\n      <th>3</th>\n      <td>0.176471</td>\n      <td>0.009014</td>\n      <td>0.021975</td>\n    </tr>\n    <tr>\n      <th>4</th>\n      <td>0.235294</td>\n      <td>1.000000</td>\n      <td>1.000000</td>\n    </tr>\n    <tr>\n      <th>5</th>\n      <td>0.294118</td>\n      <td>0.166969</td>\n      <td>0.265395</td>\n    </tr>\n    <tr>\n      <th>6</th>\n      <td>0.352941</td>\n      <td>0.018347</td>\n      <td>0.056989</td>\n    </tr>\n    <tr>\n      <th>7</th>\n      <td>0.411765</td>\n      <td>0.005256</td>\n      <td>0.018379</td>\n    </tr>\n    <tr>\n      <th>8</th>\n      <td>0.470588</td>\n      <td>0.007965</td>\n      <td>0.000774</td>\n    </tr>\n    <tr>\n      <th>9</th>\n      <td>0.529412</td>\n      <td>0.449983</td>\n      <td>0.600563</td>\n    </tr>\n  </tbody>\n</table>\n</div>"
     },
     "execution_count": 462,
     "metadata": {},
     "output_type": "execute_result"
    }
   ],
   "source": [
    "x = female_male_df.values #returns a numpy array\n",
    "min_max_scaler = preprocessing.MinMaxScaler()\n",
    "x_scaled = min_max_scaler.fit_transform(x)\n",
    "normalized_df = pd.DataFrame(x_scaled)\n",
    "normalized_df.columns = ['id','female_norm','male_norm']\n",
    "normalized_df.head(10)"
   ],
   "metadata": {
    "collapsed": false,
    "pycharm": {
     "name": "#%%\n"
    }
   }
  },
  {
   "cell_type": "code",
   "execution_count": 480,
   "outputs": [
    {
     "data": {
      "text/plain": "             cluster_label                                      cluster_terms  \\\n0       unternehmen_marken  ['bauhaus', 'prosieben', 'sparkasse', 'vorwerk...   \n1            sport_hobbies  ['angeln', 'poker', 'liga', 'club', 'league', ...   \n2              nachrichten  ['kicker', 'stuttgarter', 'tagesspiegel', 'ver...   \n3         militaer_polizei  ['oberstleutnant', 'oberleutnant', 'panzer', '...   \n4       technologie_medien  ['information', 'laptop', 'browser', 'javascri...   \n5             kunst_kultur  ['live', 'radio', 'broadcast', 'songs', 'cds',...   \n6                  bildung  ['schüler', 'gesamtschule', 'realschule', 'obe...   \n7   wissenschaft_forschung  ['fraunhofer', 'biologie', 'chemie', 'forschun...   \n8            mode_aussehen  ['haar', 'jacke', 'schuh', 'pumps', 'outfit', ...   \n9              privatleben  ['ehe', 'oma', 'schwester', 'bruder', 'sohn', ...   \n10               transport  ['taxi', 'trailer', 'route', 'shuttle', 'depot...   \n11                 politik  ['reichstag', 'landkreis', 'rathaus', 'oberbür...   \n12              wirtschaft  ['bank', 'consulting', 'financial', 'fund', 'i...   \n13                 speisen  ['brasserie', 'torte', 'kaffee', 'humus', 'eis...   \n14      gesundheit_koerper  ['ellenbogen', 'droge', 'reflex', 'brust', 'ma...   \n15                   recht  ['gericht', 'gesetz', 'mandat', 'jura', 'recht...   \n16                  terror  ['explosion', 'zerstörer', 'bombe', 'terrorist...   \n17        religion_glauben  ['reformist', 'kirche', 'kloster', 'islamist',...   \n\n   female_count  id male_count        id  female_norm  male_norm  \n0      153774.0   1    1160934  0.000000     0.029776   0.104718  \n1      387765.0   2    1273553  0.058824     0.075085   0.115018  \n2      164599.0   3     422864  0.117647     0.031872   0.037215  \n3       46554.0   4     256233  0.176471     0.009014   0.021975  \n4     5164307.0   5   10949863  0.235294     1.000000   1.000000  \n5      862283.0   6    2917762  0.294118     0.166969   0.265395  \n6       94751.0   7     639067  0.352941     0.018347   0.056989  \n7       27145.0   8     216907  0.411765     0.005256   0.018379  \n8       41138.0   9      24418  0.470588     0.007965   0.000774  \n9     2323851.0  10    6582455  0.529412     0.449983   0.600563  \n10     142378.0  11     493123  0.588235     0.027569   0.043641  \n11    1013291.0  12    2260741  0.647059     0.196210   0.205305  \n12     235443.0  13     339761  0.705882     0.045590   0.029615  \n13     131409.0  14     423170  0.764706     0.025445   0.037243  \n14     106429.0  15     729413  0.823529     0.020608   0.065252  \n15      12967.0  16     149793  0.882353     0.002510   0.012240  \n16          3.0  17      15958  0.941176     0.000000   0.000000  \n17      24062.0  18     186850  1.000000     0.004659   0.015630  ",
      "text/html": "<div>\n<style scoped>\n    .dataframe tbody tr th:only-of-type {\n        vertical-align: middle;\n    }\n\n    .dataframe tbody tr th {\n        vertical-align: top;\n    }\n\n    .dataframe thead th {\n        text-align: right;\n    }\n</style>\n<table border=\"1\" class=\"dataframe\">\n  <thead>\n    <tr style=\"text-align: right;\">\n      <th></th>\n      <th>cluster_label</th>\n      <th>cluster_terms</th>\n      <th>female_count</th>\n      <th>id</th>\n      <th>male_count</th>\n      <th>id</th>\n      <th>female_norm</th>\n      <th>male_norm</th>\n    </tr>\n  </thead>\n  <tbody>\n    <tr>\n      <th>0</th>\n      <td>unternehmen_marken</td>\n      <td>['bauhaus', 'prosieben', 'sparkasse', 'vorwerk...</td>\n      <td>153774.0</td>\n      <td>1</td>\n      <td>1160934</td>\n      <td>0.000000</td>\n      <td>0.029776</td>\n      <td>0.104718</td>\n    </tr>\n    <tr>\n      <th>1</th>\n      <td>sport_hobbies</td>\n      <td>['angeln', 'poker', 'liga', 'club', 'league', ...</td>\n      <td>387765.0</td>\n      <td>2</td>\n      <td>1273553</td>\n      <td>0.058824</td>\n      <td>0.075085</td>\n      <td>0.115018</td>\n    </tr>\n    <tr>\n      <th>2</th>\n      <td>nachrichten</td>\n      <td>['kicker', 'stuttgarter', 'tagesspiegel', 'ver...</td>\n      <td>164599.0</td>\n      <td>3</td>\n      <td>422864</td>\n      <td>0.117647</td>\n      <td>0.031872</td>\n      <td>0.037215</td>\n    </tr>\n    <tr>\n      <th>3</th>\n      <td>militaer_polizei</td>\n      <td>['oberstleutnant', 'oberleutnant', 'panzer', '...</td>\n      <td>46554.0</td>\n      <td>4</td>\n      <td>256233</td>\n      <td>0.176471</td>\n      <td>0.009014</td>\n      <td>0.021975</td>\n    </tr>\n    <tr>\n      <th>4</th>\n      <td>technologie_medien</td>\n      <td>['information', 'laptop', 'browser', 'javascri...</td>\n      <td>5164307.0</td>\n      <td>5</td>\n      <td>10949863</td>\n      <td>0.235294</td>\n      <td>1.000000</td>\n      <td>1.000000</td>\n    </tr>\n    <tr>\n      <th>5</th>\n      <td>kunst_kultur</td>\n      <td>['live', 'radio', 'broadcast', 'songs', 'cds',...</td>\n      <td>862283.0</td>\n      <td>6</td>\n      <td>2917762</td>\n      <td>0.294118</td>\n      <td>0.166969</td>\n      <td>0.265395</td>\n    </tr>\n    <tr>\n      <th>6</th>\n      <td>bildung</td>\n      <td>['schüler', 'gesamtschule', 'realschule', 'obe...</td>\n      <td>94751.0</td>\n      <td>7</td>\n      <td>639067</td>\n      <td>0.352941</td>\n      <td>0.018347</td>\n      <td>0.056989</td>\n    </tr>\n    <tr>\n      <th>7</th>\n      <td>wissenschaft_forschung</td>\n      <td>['fraunhofer', 'biologie', 'chemie', 'forschun...</td>\n      <td>27145.0</td>\n      <td>8</td>\n      <td>216907</td>\n      <td>0.411765</td>\n      <td>0.005256</td>\n      <td>0.018379</td>\n    </tr>\n    <tr>\n      <th>8</th>\n      <td>mode_aussehen</td>\n      <td>['haar', 'jacke', 'schuh', 'pumps', 'outfit', ...</td>\n      <td>41138.0</td>\n      <td>9</td>\n      <td>24418</td>\n      <td>0.470588</td>\n      <td>0.007965</td>\n      <td>0.000774</td>\n    </tr>\n    <tr>\n      <th>9</th>\n      <td>privatleben</td>\n      <td>['ehe', 'oma', 'schwester', 'bruder', 'sohn', ...</td>\n      <td>2323851.0</td>\n      <td>10</td>\n      <td>6582455</td>\n      <td>0.529412</td>\n      <td>0.449983</td>\n      <td>0.600563</td>\n    </tr>\n    <tr>\n      <th>10</th>\n      <td>transport</td>\n      <td>['taxi', 'trailer', 'route', 'shuttle', 'depot...</td>\n      <td>142378.0</td>\n      <td>11</td>\n      <td>493123</td>\n      <td>0.588235</td>\n      <td>0.027569</td>\n      <td>0.043641</td>\n    </tr>\n    <tr>\n      <th>11</th>\n      <td>politik</td>\n      <td>['reichstag', 'landkreis', 'rathaus', 'oberbür...</td>\n      <td>1013291.0</td>\n      <td>12</td>\n      <td>2260741</td>\n      <td>0.647059</td>\n      <td>0.196210</td>\n      <td>0.205305</td>\n    </tr>\n    <tr>\n      <th>12</th>\n      <td>wirtschaft</td>\n      <td>['bank', 'consulting', 'financial', 'fund', 'i...</td>\n      <td>235443.0</td>\n      <td>13</td>\n      <td>339761</td>\n      <td>0.705882</td>\n      <td>0.045590</td>\n      <td>0.029615</td>\n    </tr>\n    <tr>\n      <th>13</th>\n      <td>speisen</td>\n      <td>['brasserie', 'torte', 'kaffee', 'humus', 'eis...</td>\n      <td>131409.0</td>\n      <td>14</td>\n      <td>423170</td>\n      <td>0.764706</td>\n      <td>0.025445</td>\n      <td>0.037243</td>\n    </tr>\n    <tr>\n      <th>14</th>\n      <td>gesundheit_koerper</td>\n      <td>['ellenbogen', 'droge', 'reflex', 'brust', 'ma...</td>\n      <td>106429.0</td>\n      <td>15</td>\n      <td>729413</td>\n      <td>0.823529</td>\n      <td>0.020608</td>\n      <td>0.065252</td>\n    </tr>\n    <tr>\n      <th>15</th>\n      <td>recht</td>\n      <td>['gericht', 'gesetz', 'mandat', 'jura', 'recht...</td>\n      <td>12967.0</td>\n      <td>16</td>\n      <td>149793</td>\n      <td>0.882353</td>\n      <td>0.002510</td>\n      <td>0.012240</td>\n    </tr>\n    <tr>\n      <th>16</th>\n      <td>terror</td>\n      <td>['explosion', 'zerstörer', 'bombe', 'terrorist...</td>\n      <td>3.0</td>\n      <td>17</td>\n      <td>15958</td>\n      <td>0.941176</td>\n      <td>0.000000</td>\n      <td>0.000000</td>\n    </tr>\n    <tr>\n      <th>17</th>\n      <td>religion_glauben</td>\n      <td>['reformist', 'kirche', 'kloster', 'islamist',...</td>\n      <td>24062.0</td>\n      <td>18</td>\n      <td>186850</td>\n      <td>1.000000</td>\n      <td>0.004659</td>\n      <td>0.015630</td>\n    </tr>\n  </tbody>\n</table>\n</div>"
     },
     "execution_count": 480,
     "metadata": {},
     "output_type": "execute_result"
    }
   ],
   "source": [
    "new_cluster_counts_df = pd.concat([cluster_counts_df, normalized_df], axis=1)\n",
    "new_cluster_counts_df.head(10)"
   ],
   "metadata": {
    "collapsed": false,
    "pycharm": {
     "name": "#%%\n"
    }
   }
  },
  {
   "cell_type": "code",
   "execution_count": 482,
   "outputs": [],
   "source": [
    "total_female_norm = pd.Series(new_cluster_counts_df['female_norm'], dtype='float').sum()\n",
    "total_male_norm = pd.Series(new_cluster_counts_df['male_norm'], dtype='float').sum()\n",
    "\n",
    "new_cluster_counts_df['female_perc'] = new_cluster_counts_df.female_norm.apply(lambda x: float(x) / total_female_norm )\n",
    "new_cluster_counts_df['male_perc'] = new_cluster_counts_df.male_norm.apply(lambda x: float(x) / total_male_norm )"
   ],
   "metadata": {
    "collapsed": false,
    "pycharm": {
     "name": "#%%\n"
    }
   }
  },
  {
   "cell_type": "code",
   "execution_count": 483,
   "outputs": [
    {
     "data": {
      "text/plain": "            cluster_label                                      cluster_terms  \\\n0      unternehmen_marken  ['bauhaus', 'prosieben', 'sparkasse', 'vorwerk...   \n1           sport_hobbies  ['angeln', 'poker', 'liga', 'club', 'league', ...   \n2             nachrichten  ['kicker', 'stuttgarter', 'tagesspiegel', 'ver...   \n3        militaer_polizei  ['oberstleutnant', 'oberleutnant', 'panzer', '...   \n4      technologie_medien  ['information', 'laptop', 'browser', 'javascri...   \n5            kunst_kultur  ['live', 'radio', 'broadcast', 'songs', 'cds',...   \n6                 bildung  ['schüler', 'gesamtschule', 'realschule', 'obe...   \n7  wissenschaft_forschung  ['fraunhofer', 'biologie', 'chemie', 'forschun...   \n8           mode_aussehen  ['haar', 'jacke', 'schuh', 'pumps', 'outfit', ...   \n9             privatleben  ['ehe', 'oma', 'schwester', 'bruder', 'sohn', ...   \n\n  female_count male_count  female_norm  male_norm  female_perc  male_perc  \n0     153774.0    1160934     0.029776   0.104718     0.014066   0.039817  \n1     387765.0    1273553     0.075085   0.115018     0.035470   0.043734  \n2     164599.0     422864     0.031872   0.037215     0.015056   0.014150  \n3      46554.0     256233     0.009014   0.021975     0.004258   0.008356  \n4    5164307.0   10949863     1.000000   1.000000     0.472398   0.380235  \n5     862283.0    2917762     0.166969   0.265395     0.078876   0.100913  \n6      94751.0     639067     0.018347   0.056989     0.008667   0.021669  \n7      27145.0     216907     0.005256   0.018379     0.002483   0.006988  \n8      41138.0      24418     0.007965   0.000774     0.003763   0.000294  \n9    2323851.0    6582455     0.449983   0.600563     0.212571   0.228355  ",
      "text/html": "<div>\n<style scoped>\n    .dataframe tbody tr th:only-of-type {\n        vertical-align: middle;\n    }\n\n    .dataframe tbody tr th {\n        vertical-align: top;\n    }\n\n    .dataframe thead th {\n        text-align: right;\n    }\n</style>\n<table border=\"1\" class=\"dataframe\">\n  <thead>\n    <tr style=\"text-align: right;\">\n      <th></th>\n      <th>cluster_label</th>\n      <th>cluster_terms</th>\n      <th>female_count</th>\n      <th>male_count</th>\n      <th>female_norm</th>\n      <th>male_norm</th>\n      <th>female_perc</th>\n      <th>male_perc</th>\n    </tr>\n  </thead>\n  <tbody>\n    <tr>\n      <th>0</th>\n      <td>unternehmen_marken</td>\n      <td>['bauhaus', 'prosieben', 'sparkasse', 'vorwerk...</td>\n      <td>153774.0</td>\n      <td>1160934</td>\n      <td>0.029776</td>\n      <td>0.104718</td>\n      <td>0.014066</td>\n      <td>0.039817</td>\n    </tr>\n    <tr>\n      <th>1</th>\n      <td>sport_hobbies</td>\n      <td>['angeln', 'poker', 'liga', 'club', 'league', ...</td>\n      <td>387765.0</td>\n      <td>1273553</td>\n      <td>0.075085</td>\n      <td>0.115018</td>\n      <td>0.035470</td>\n      <td>0.043734</td>\n    </tr>\n    <tr>\n      <th>2</th>\n      <td>nachrichten</td>\n      <td>['kicker', 'stuttgarter', 'tagesspiegel', 'ver...</td>\n      <td>164599.0</td>\n      <td>422864</td>\n      <td>0.031872</td>\n      <td>0.037215</td>\n      <td>0.015056</td>\n      <td>0.014150</td>\n    </tr>\n    <tr>\n      <th>3</th>\n      <td>militaer_polizei</td>\n      <td>['oberstleutnant', 'oberleutnant', 'panzer', '...</td>\n      <td>46554.0</td>\n      <td>256233</td>\n      <td>0.009014</td>\n      <td>0.021975</td>\n      <td>0.004258</td>\n      <td>0.008356</td>\n    </tr>\n    <tr>\n      <th>4</th>\n      <td>technologie_medien</td>\n      <td>['information', 'laptop', 'browser', 'javascri...</td>\n      <td>5164307.0</td>\n      <td>10949863</td>\n      <td>1.000000</td>\n      <td>1.000000</td>\n      <td>0.472398</td>\n      <td>0.380235</td>\n    </tr>\n    <tr>\n      <th>5</th>\n      <td>kunst_kultur</td>\n      <td>['live', 'radio', 'broadcast', 'songs', 'cds',...</td>\n      <td>862283.0</td>\n      <td>2917762</td>\n      <td>0.166969</td>\n      <td>0.265395</td>\n      <td>0.078876</td>\n      <td>0.100913</td>\n    </tr>\n    <tr>\n      <th>6</th>\n      <td>bildung</td>\n      <td>['schüler', 'gesamtschule', 'realschule', 'obe...</td>\n      <td>94751.0</td>\n      <td>639067</td>\n      <td>0.018347</td>\n      <td>0.056989</td>\n      <td>0.008667</td>\n      <td>0.021669</td>\n    </tr>\n    <tr>\n      <th>7</th>\n      <td>wissenschaft_forschung</td>\n      <td>['fraunhofer', 'biologie', 'chemie', 'forschun...</td>\n      <td>27145.0</td>\n      <td>216907</td>\n      <td>0.005256</td>\n      <td>0.018379</td>\n      <td>0.002483</td>\n      <td>0.006988</td>\n    </tr>\n    <tr>\n      <th>8</th>\n      <td>mode_aussehen</td>\n      <td>['haar', 'jacke', 'schuh', 'pumps', 'outfit', ...</td>\n      <td>41138.0</td>\n      <td>24418</td>\n      <td>0.007965</td>\n      <td>0.000774</td>\n      <td>0.003763</td>\n      <td>0.000294</td>\n    </tr>\n    <tr>\n      <th>9</th>\n      <td>privatleben</td>\n      <td>['ehe', 'oma', 'schwester', 'bruder', 'sohn', ...</td>\n      <td>2323851.0</td>\n      <td>6582455</td>\n      <td>0.449983</td>\n      <td>0.600563</td>\n      <td>0.212571</td>\n      <td>0.228355</td>\n    </tr>\n  </tbody>\n</table>\n</div>"
     },
     "execution_count": 483,
     "metadata": {},
     "output_type": "execute_result"
    }
   ],
   "source": [
    "new_cluster_counts_df = new_cluster_counts_df.drop(['id'], axis=1)"
   ],
   "metadata": {
    "collapsed": false,
    "pycharm": {
     "name": "#%%\n"
    }
   }
  },
  {
   "cell_type": "code",
   "execution_count": 487,
   "outputs": [
    {
     "data": {
      "text/plain": "             cluster_label                                      cluster_terms  \\\n0       unternehmen_marken  ['bauhaus', 'prosieben', 'sparkasse', 'vorwerk...   \n1            sport_hobbies  ['angeln', 'poker', 'liga', 'club', 'league', ...   \n2              nachrichten  ['kicker', 'stuttgarter', 'tagesspiegel', 'ver...   \n3         militaer_polizei  ['oberstleutnant', 'oberleutnant', 'panzer', '...   \n4       technologie_medien  ['information', 'laptop', 'browser', 'javascri...   \n5             kunst_kultur  ['live', 'radio', 'broadcast', 'songs', 'cds',...   \n6                  bildung  ['schüler', 'gesamtschule', 'realschule', 'obe...   \n7   wissenschaft_forschung  ['fraunhofer', 'biologie', 'chemie', 'forschun...   \n8            mode_aussehen  ['haar', 'jacke', 'schuh', 'pumps', 'outfit', ...   \n9              privatleben  ['ehe', 'oma', 'schwester', 'bruder', 'sohn', ...   \n10               transport  ['taxi', 'trailer', 'route', 'shuttle', 'depot...   \n11                 politik  ['reichstag', 'landkreis', 'rathaus', 'oberbür...   \n12              wirtschaft  ['bank', 'consulting', 'financial', 'fund', 'i...   \n13                 speisen  ['brasserie', 'torte', 'kaffee', 'humus', 'eis...   \n14      gesundheit_koerper  ['ellenbogen', 'droge', 'reflex', 'brust', 'ma...   \n15                   recht  ['gericht', 'gesetz', 'mandat', 'jura', 'recht...   \n16                  terror  ['explosion', 'zerstörer', 'bombe', 'terrorist...   \n17        religion_glauben  ['reformist', 'kirche', 'kloster', 'islamist',...   \n\n   female_count male_count  female_norm  male_norm  female_perc  male_perc  \n0      153774.0    1160934     0.029776   0.104718     0.014066   0.039817  \n1      387765.0    1273553     0.075085   0.115018     0.035470   0.043734  \n2      164599.0     422864     0.031872   0.037215     0.015056   0.014150  \n3       46554.0     256233     0.009014   0.021975     0.004258   0.008356  \n4     5164307.0   10949863     1.000000   1.000000     0.472398   0.380235  \n5      862283.0    2917762     0.166969   0.265395     0.078876   0.100913  \n6       94751.0     639067     0.018347   0.056989     0.008667   0.021669  \n7       27145.0     216907     0.005256   0.018379     0.002483   0.006988  \n8       41138.0      24418     0.007965   0.000774     0.003763   0.000294  \n9     2323851.0    6582455     0.449983   0.600563     0.212571   0.228355  \n10     142378.0     493123     0.027569   0.043641     0.013024   0.016594  \n11    1013291.0    2260741     0.196210   0.205305     0.092689   0.078064  \n12     235443.0     339761     0.045590   0.029615     0.021537   0.011261  \n13     131409.0     423170     0.025445   0.037243     0.012020   0.014161  \n14     106429.0     729413     0.020608   0.065252     0.009735   0.024811  \n15      12967.0     149793     0.002510   0.012240     0.001186   0.004654  \n16          3.0      15958     0.000000   0.000000     0.000000   0.000000  \n17      24062.0     186850     0.004659   0.015630     0.002201   0.005943  ",
      "text/html": "<div>\n<style scoped>\n    .dataframe tbody tr th:only-of-type {\n        vertical-align: middle;\n    }\n\n    .dataframe tbody tr th {\n        vertical-align: top;\n    }\n\n    .dataframe thead th {\n        text-align: right;\n    }\n</style>\n<table border=\"1\" class=\"dataframe\">\n  <thead>\n    <tr style=\"text-align: right;\">\n      <th></th>\n      <th>cluster_label</th>\n      <th>cluster_terms</th>\n      <th>female_count</th>\n      <th>male_count</th>\n      <th>female_norm</th>\n      <th>male_norm</th>\n      <th>female_perc</th>\n      <th>male_perc</th>\n    </tr>\n  </thead>\n  <tbody>\n    <tr>\n      <th>0</th>\n      <td>unternehmen_marken</td>\n      <td>['bauhaus', 'prosieben', 'sparkasse', 'vorwerk...</td>\n      <td>153774.0</td>\n      <td>1160934</td>\n      <td>0.029776</td>\n      <td>0.104718</td>\n      <td>0.014066</td>\n      <td>0.039817</td>\n    </tr>\n    <tr>\n      <th>1</th>\n      <td>sport_hobbies</td>\n      <td>['angeln', 'poker', 'liga', 'club', 'league', ...</td>\n      <td>387765.0</td>\n      <td>1273553</td>\n      <td>0.075085</td>\n      <td>0.115018</td>\n      <td>0.035470</td>\n      <td>0.043734</td>\n    </tr>\n    <tr>\n      <th>2</th>\n      <td>nachrichten</td>\n      <td>['kicker', 'stuttgarter', 'tagesspiegel', 'ver...</td>\n      <td>164599.0</td>\n      <td>422864</td>\n      <td>0.031872</td>\n      <td>0.037215</td>\n      <td>0.015056</td>\n      <td>0.014150</td>\n    </tr>\n    <tr>\n      <th>3</th>\n      <td>militaer_polizei</td>\n      <td>['oberstleutnant', 'oberleutnant', 'panzer', '...</td>\n      <td>46554.0</td>\n      <td>256233</td>\n      <td>0.009014</td>\n      <td>0.021975</td>\n      <td>0.004258</td>\n      <td>0.008356</td>\n    </tr>\n    <tr>\n      <th>4</th>\n      <td>technologie_medien</td>\n      <td>['information', 'laptop', 'browser', 'javascri...</td>\n      <td>5164307.0</td>\n      <td>10949863</td>\n      <td>1.000000</td>\n      <td>1.000000</td>\n      <td>0.472398</td>\n      <td>0.380235</td>\n    </tr>\n    <tr>\n      <th>5</th>\n      <td>kunst_kultur</td>\n      <td>['live', 'radio', 'broadcast', 'songs', 'cds',...</td>\n      <td>862283.0</td>\n      <td>2917762</td>\n      <td>0.166969</td>\n      <td>0.265395</td>\n      <td>0.078876</td>\n      <td>0.100913</td>\n    </tr>\n    <tr>\n      <th>6</th>\n      <td>bildung</td>\n      <td>['schüler', 'gesamtschule', 'realschule', 'obe...</td>\n      <td>94751.0</td>\n      <td>639067</td>\n      <td>0.018347</td>\n      <td>0.056989</td>\n      <td>0.008667</td>\n      <td>0.021669</td>\n    </tr>\n    <tr>\n      <th>7</th>\n      <td>wissenschaft_forschung</td>\n      <td>['fraunhofer', 'biologie', 'chemie', 'forschun...</td>\n      <td>27145.0</td>\n      <td>216907</td>\n      <td>0.005256</td>\n      <td>0.018379</td>\n      <td>0.002483</td>\n      <td>0.006988</td>\n    </tr>\n    <tr>\n      <th>8</th>\n      <td>mode_aussehen</td>\n      <td>['haar', 'jacke', 'schuh', 'pumps', 'outfit', ...</td>\n      <td>41138.0</td>\n      <td>24418</td>\n      <td>0.007965</td>\n      <td>0.000774</td>\n      <td>0.003763</td>\n      <td>0.000294</td>\n    </tr>\n    <tr>\n      <th>9</th>\n      <td>privatleben</td>\n      <td>['ehe', 'oma', 'schwester', 'bruder', 'sohn', ...</td>\n      <td>2323851.0</td>\n      <td>6582455</td>\n      <td>0.449983</td>\n      <td>0.600563</td>\n      <td>0.212571</td>\n      <td>0.228355</td>\n    </tr>\n    <tr>\n      <th>10</th>\n      <td>transport</td>\n      <td>['taxi', 'trailer', 'route', 'shuttle', 'depot...</td>\n      <td>142378.0</td>\n      <td>493123</td>\n      <td>0.027569</td>\n      <td>0.043641</td>\n      <td>0.013024</td>\n      <td>0.016594</td>\n    </tr>\n    <tr>\n      <th>11</th>\n      <td>politik</td>\n      <td>['reichstag', 'landkreis', 'rathaus', 'oberbür...</td>\n      <td>1013291.0</td>\n      <td>2260741</td>\n      <td>0.196210</td>\n      <td>0.205305</td>\n      <td>0.092689</td>\n      <td>0.078064</td>\n    </tr>\n    <tr>\n      <th>12</th>\n      <td>wirtschaft</td>\n      <td>['bank', 'consulting', 'financial', 'fund', 'i...</td>\n      <td>235443.0</td>\n      <td>339761</td>\n      <td>0.045590</td>\n      <td>0.029615</td>\n      <td>0.021537</td>\n      <td>0.011261</td>\n    </tr>\n    <tr>\n      <th>13</th>\n      <td>speisen</td>\n      <td>['brasserie', 'torte', 'kaffee', 'humus', 'eis...</td>\n      <td>131409.0</td>\n      <td>423170</td>\n      <td>0.025445</td>\n      <td>0.037243</td>\n      <td>0.012020</td>\n      <td>0.014161</td>\n    </tr>\n    <tr>\n      <th>14</th>\n      <td>gesundheit_koerper</td>\n      <td>['ellenbogen', 'droge', 'reflex', 'brust', 'ma...</td>\n      <td>106429.0</td>\n      <td>729413</td>\n      <td>0.020608</td>\n      <td>0.065252</td>\n      <td>0.009735</td>\n      <td>0.024811</td>\n    </tr>\n    <tr>\n      <th>15</th>\n      <td>recht</td>\n      <td>['gericht', 'gesetz', 'mandat', 'jura', 'recht...</td>\n      <td>12967.0</td>\n      <td>149793</td>\n      <td>0.002510</td>\n      <td>0.012240</td>\n      <td>0.001186</td>\n      <td>0.004654</td>\n    </tr>\n    <tr>\n      <th>16</th>\n      <td>terror</td>\n      <td>['explosion', 'zerstörer', 'bombe', 'terrorist...</td>\n      <td>3.0</td>\n      <td>15958</td>\n      <td>0.000000</td>\n      <td>0.000000</td>\n      <td>0.000000</td>\n      <td>0.000000</td>\n    </tr>\n    <tr>\n      <th>17</th>\n      <td>religion_glauben</td>\n      <td>['reformist', 'kirche', 'kloster', 'islamist',...</td>\n      <td>24062.0</td>\n      <td>186850</td>\n      <td>0.004659</td>\n      <td>0.015630</td>\n      <td>0.002201</td>\n      <td>0.005943</td>\n    </tr>\n  </tbody>\n</table>\n</div>"
     },
     "execution_count": 487,
     "metadata": {},
     "output_type": "execute_result"
    }
   ],
   "source": [
    "new_cluster_counts_df.head(18)"
   ],
   "metadata": {
    "collapsed": false,
    "pycharm": {
     "name": "#%%\n"
    }
   }
  },
  {
   "cell_type": "code",
   "execution_count": 543,
   "outputs": [
    {
     "data": {
      "text/plain": "<Figure size 432x288 with 1 Axes>",
      "image/png": "[encoded data removed]"
     },
     "metadata": {
      "needs_background": "light"
     },
     "output_type": "display_data"
    }
   ],
   "source": [
    "# data to plot\n",
    "n_cluster = 18\n",
    "male_perc = new_cluster_counts_df['male_perc']\n",
    "female_perc = new_cluster_counts_df['female_perc']\n",
    "\n",
    "# create plot\n",
    "fig, ax = plt.subplots()\n",
    "index = np.arange(n_cluster)\n",
    "bar_width = 0.40\n",
    "opacity = 0.9\n",
    "\n",
    "rects1 = plt.bar(index, male_perc, bar_width,\n",
    "alpha=opacity,\n",
    "color='c',\n",
    "label='Male')\n",
    "\n",
    "rects2 = plt.bar(index + bar_width, female_perc, bar_width,\n",
    "alpha=opacity,\n",
    "color='y',\n",
    "label='Female')\n",
    "\n",
    "plt.xlabel('Cluster Label')\n",
    "plt.ylabel('Percent')\n",
    "plt.title('Percentage distribution by gender per cluster label')\n",
    "plt.xticks(index + bar_width ,new_cluster_counts_df['cluster_label'], rotation = 90)\n",
    "plt.legend()\n",
    "\n",
    "plt.tight_layout()\n",
    "plt.show()"
   ],
   "metadata": {
    "collapsed": false,
    "pycharm": {
     "name": "#%%\n"
    }
   }
  },
  {
   "cell_type": "markdown",
   "source": [
    "## Independent T-Test"
   ],
   "metadata": {
    "collapsed": false,
    "pycharm": {
     "name": "#%% md\n"
    }
   }
  },
  {
   "cell_type": "code",
   "execution_count": 529,
   "outputs": [],
   "source": [
    "female_cluster_count = new_cluster_counts_df['female_count'].apply(lambda x: float(x))\n",
    "male_cluster_count = new_cluster_counts_df['male_count'].apply(lambda x: float(x))"
   ],
   "metadata": {
    "collapsed": false,
    "pycharm": {
     "name": "#%%\n"
    }
   }
  },
  {
   "cell_type": "code",
   "execution_count": 542,
   "outputs": [
    {
     "data": {
      "text/plain": "Ttest_indResult(statistic=1.381499152779651, pvalue=0.1761372577988665)"
     },
     "execution_count": 542,
     "metadata": {},
     "output_type": "execute_result"
    }
   ],
   "source": [
    "stats.ttest_ind(male_cluster_count,female_cluster_count)\n",
    "\n",
    "\n"
   ],
   "metadata": {
    "collapsed": false,
    "pycharm": {
     "name": "#%%\n"
    }
   }
  }
 ],
 "metadata": {
  "kernelspec": {
   "display_name": "Python 3",
   "language": "python",
   "name": "python3"
  },
  "language_info": {
   "codemirror_mode": {
    "name": "ipython",
    "version": 3
   },
   "file_extension": ".py",
   "mimetype": "text/x-python",
   "name": "python",
   "nbconvert_exporter": "python",
   "pygments_lexer": "ipython3",
   "version": "3.8.8"
  }
 },
 "nbformat": 4,
 "nbformat_minor": 1
}