{
 "cells": [
  {
   "cell_type": "markdown",
   "metadata": {
    "pycharm": {
     "name": "#%% md\n"
    }
   },
   "source": [
    "# Evaluation\n",
    "## Imports"
   ]
  },
  {
   "cell_type": "code",
   "execution_count": 63,
   "metadata": {},
   "outputs": [],
   "source": [
    "import ast\n",
    "import os\n",
    "os.environ['MODIN_ENGINE'] = 'dask'\n",
    "import modin.pandas as pd\n",
    "from collections import Counter\n",
    "\n",
    "from nltk.corpus import stopwords\n",
    "stopwords = stopwords.words('german')\n",
    "import string\n",
    "from HanTa import HanoverTagger as ht\n",
    "tagger = ht.HanoverTagger('./morphmodel_ger.pgz')\n",
    "import re\n",
    "\n",
    "import numpy as np\n",
    "\n",
    "import matplotlib.pyplot as plt\n",
    "import seaborn as sn\n",
    "from sklearn import preprocessing\n",
    "from scipy.stats import ttest_rel\n",
    "from  scipy  import  stats"
   ]
  },
  {
   "cell_type": "markdown",
   "metadata": {},
   "source": [
    "## Load data"
   ]
  },
  {
   "cell_type": "code",
   "execution_count": 2,
   "metadata": {
    "pycharm": {
     "name": "#%%\n"
    }
   },
   "outputs": [],
   "source": [
    "chunksize= 10 ** 6\n",
    "chunks = pd.read_csv('./btw17_rawdata_gender.csv', chunksize=chunksize)\n",
    "btw17_rawdata_df = pd.concat(chunks)"
   ]
  },
  {
   "cell_type": "code",
   "execution_count": null,
   "metadata": {
    "pycharm": {
     "name": "#%%\n"
    }
   },
   "outputs": [],
   "source": [
    "btw17_rawdata_df.head(3)"
   ]
  },
  {
   "cell_type": "markdown",
   "metadata": {
    "pycharm": {
     "name": "#%% md\n"
    }
   },
   "source": []
  },
  {
   "cell_type": "markdown",
   "metadata": {
    "pycharm": {
     "name": "#%% md\n"
    }
   },
   "source": [
    "## Preprocessing\n",
    "*Preprocessing Pipeline from preprocessing.ipynb is used except for duplicate removal*"
   ]
  },
  {
   "cell_type": "code",
   "execution_count": null,
   "metadata": {
    "pycharm": {
     "name": "#%%\n"
    }
   },
   "outputs": [],
   "source": [
    "with open('./all_names_to_delete.txt', 'r', encoding='utf-8') as f:\n",
    "    names = [term[:-1] for term in f.readlines()]\n",
    "word_pattern = re.compile('\\w+')\n",
    "with open('../dis25-2021/wordlist-german.txt', 'r', encoding='utf-8') as f:\n",
    "    german_terms = [term[:-1].lower() for term in f.readlines()]"
   ]
  },
  {
   "cell_type": "code",
   "execution_count": null,
   "metadata": {
    "pycharm": {
     "name": "#%%\n"
    }
   },
   "outputs": [],
   "source": [
    "def delete_names(matchobj)->str:\n",
    "    word = matchobj.group(0)\n",
    "    if word in names:\n",
    "        return \"\"\n",
    "    else:\n",
    "        return word"
   ]
  },
  {
   "cell_type": "code",
   "metadata": {
    "pycharm": {
     "name": "#%%\n"
    }
   },
   "source": [
    "def preprocess_keep_duplicates(suggestions:list)->list:\n",
    "    suggestions = tuple(map(lambda x: x.translate(str.maketrans(string.punctuation, ' ' * len(string.punctuation))), suggestions))\n",
    "    suggestions = [word_pattern.sub(delete_names, term.lower()) for term in suggestions]\n",
    "    suggestions = [suggestion for suggestion in suggestions if len(suggestion.split()) == 1]\n",
    "    suggestions = tuple(map(lambda x: re.sub('[0-9]*', '', x), suggestions))\n",
    "    suggestions = [x.lower() for x in suggestions]\n",
    "    suggestions = [x for x in suggestions if not 'http' in x]\n",
    "    suggestions = [x for x in suggestions if not x in stopwords]\n",
    "    suggestions = [tagger.analyze(tagger.analyze(suggestion)[0])[0].lower()\n",
    "                   for suggestion in suggestions\n",
    "                   if tagger.analyze(tagger.analyze(suggestion)[0])[1] in ['NN']]\n",
    "    suggestions = [re.sub('(^..?\\s|\\s..?\\s|\\s..?$|^..?$)', '', string) for string in suggestions]\n",
    "    suggestions = [x.strip() for x in suggestions]\n",
    "    suggestions = list(filter(None, suggestions))\n",
    "    suggestions = [term for term in suggestions if term in german_terms]\n",
    "    return (suggestions)"
   ],
   "execution_count": null,
   "outputs": []
  },
  {
   "cell_type": "markdown",
   "metadata": {
    "pycharm": {
     "name": "#%% md\n"
    }
   },
   "source": [
    "## Group by gender\n",
    "*Create one DataFrame for terms suggested for male politicians and one for terms suggested for female politicians*\n",
    "#### *female*"
   ]
  },
  {
   "cell_type": "code",
   "execution_count": null,
   "metadata": {
    "pycharm": {
     "name": "#%%\n"
    }
   },
   "outputs": [],
   "source": [
    "female_suggestions = btw17_rawdata_df.groupby('gender').get_group('female')"
   ]
  },
  {
   "cell_type": "markdown",
   "source": [
    "### *male*"
   ],
   "metadata": {
    "collapsed": false
   }
  },
  {
   "cell_type": "code",
   "execution_count": null,
   "outputs": [],
   "source": [
    "male_suggestions = btw17_rawdata_df.groupby('gender').get_group('male')"
   ],
   "metadata": {
    "collapsed": false,
    "pycharm": {
     "name": "#%%\n"
    }
   }
  },
  {
   "cell_type": "markdown",
   "metadata": {
    "pycharm": {
     "name": "#%% md\n"
    }
   },
   "source": [
    "## Turn DataFrames into flat lists, preprocess the terms of each list and keep the duplicates\n",
    "\n",
    "\\**Preprocessing is performed on slices in a loop and results are saved to file as a workaround for memory errors*\n",
    "\n",
    "### *female*"
   ]
  },
  {
   "cell_type": "code",
   "execution_count": null,
   "metadata": {
    "pycharm": {
     "name": "#%%\n"
    }
   },
   "outputs": [],
   "source": [
    "for i in range(0,len(female_suggestions)+1,int(len(female_suggestions)/10)):\n",
    "    j = i+int(len(female_suggestions)/10)\n",
    "    female_suggestions_prep = [term for row in female_suggestions.suggestions[i:j].to_list() for term in ast.literal_eval(row)]\n",
    "    with open('./female_suggestions_prep.txt','a',encoding='utf-8') as file:\n",
    "        for item in female_suggestions_prep:\n",
    "            file.write(item+'\\n')"
   ]
  },
  {
   "cell_type": "markdown",
   "source": [
    "### *male*"
   ],
   "metadata": {
    "collapsed": false
   }
  },
  {
   "cell_type": "code",
   "execution_count": null,
   "metadata": {
    "pycharm": {
     "name": "#%%\n"
    }
   },
   "outputs": [],
   "source": [
    "for i in range(0,len(male_suggestions)+1,int(len(male_suggestions)/10)):\n",
    "    j = i+int(len(male_suggestions)/10)\n",
    "    male_suggestions_prep = [term for row in male_suggestions.suggestions.iloc[i:j].to_list() for term in ast.literal_eval(row)]\n",
    "    with open('./male_suggestions_prep.txt','a',encoding='utf-8') as file:\n",
    "        for item in male_suggestions_prep:\n",
    "            file.write(item+'\\n')"
   ]
  },
  {
   "cell_type": "markdown",
   "metadata": {
    "pycharm": {
     "name": "#%% md\n"
    }
   },
   "source": [
    "## Count occurrences of words per cluster and gender"
   ]
  },
  {
   "cell_type": "markdown",
   "metadata": {
    "pycharm": {
     "name": "#%% md\n"
    }
   },
   "source": [
    "### Load Clusters"
   ]
  },
  {
   "cell_type": "code",
   "execution_count": null,
   "outputs": [],
   "source": [
    "cluster_df = pd.read_csv('./manual_clustering.csv')"
   ],
   "metadata": {
    "collapsed": false,
    "pycharm": {
     "name": "#%%\n"
    }
   }
  },
  {
   "cell_type": "markdown",
   "metadata": {
    "pycharm": {
     "name": "#%% md\n"
    }
   },
   "source": [
    "*Remove the \"geographical\" and \"other\" clusters since they're not comparable*"
   ]
  },
  {
   "cell_type": "code",
   "execution_count": null,
   "outputs": [],
   "source": [
    "cluster_df = cluster_df[1:-1]"
   ],
   "metadata": {
    "collapsed": false,
    "pycharm": {
     "name": "#%%\n"
    }
   }
  },
  {
   "cell_type": "code",
   "execution_count": null,
   "outputs": [],
   "source": [
    "clusters = [ast.literal_eval(cluster) for cluster in cluster_df.cluster_terms.to_list()]"
   ],
   "metadata": {
    "collapsed": false,
    "pycharm": {
     "name": "#%%\n"
    }
   }
  },
  {
   "cell_type": "markdown",
   "source": [
    "## Load suggestion terms and count occurences per cluster\n",
    "### *female*"
   ],
   "metadata": {
    "collapsed": false,
    "pycharm": {
     "name": "#%% md\n"
    }
   }
  },
  {
   "cell_type": "code",
   "execution_count": null,
   "outputs": [],
   "source": [
    "with open('./female_suggestions_prep.txt', 'r',encoding = 'utf-8') as file:\n",
    "    female_suggestions = [term[:-1] for term in file.readlines() if term != '']"
   ],
   "metadata": {
    "collapsed": false,
    "pycharm": {
     "name": "#%%\n"
    }
   }
  },
  {
   "cell_type": "code",
   "execution_count": null,
   "outputs": [],
   "source": [
    "female_counts = Counter(female_suggestions)"
   ],
   "metadata": {
    "collapsed": false,
    "pycharm": {
     "name": "#%%\n"
    }
   }
  },
  {
   "cell_type": "code",
   "execution_count": null,
   "outputs": [],
   "source": [
    "for index,cluster in enumerate(clusters):\n",
    "    count = 0\n",
    "    for term in cluster:\n",
    "        count += int(female_counts[term])\n",
    "    cluster_df.at[index,'female_count'] = count"
   ],
   "metadata": {
    "collapsed": false,
    "pycharm": {
     "name": "#%%\n"
    }
   }
  },
  {
   "cell_type": "code",
   "execution_count": null,
   "outputs": [],
   "source": [
    "cluster_df[['cluster_label','cluster_terms','female_count']].to_csv('./cluster_count_female.csv')"
   ],
   "metadata": {
    "collapsed": false,
    "pycharm": {
     "name": "#%%\n"
    }
   }
  },
  {
   "cell_type": "markdown",
   "source": [
    "### *male*"
   ],
   "metadata": {
    "collapsed": false,
    "pycharm": {
     "name": "#%% md\n"
    }
   }
  },
  {
   "cell_type": "code",
   "execution_count": null,
   "outputs": [],
   "source": [
    "with open('./male_suggestions_prep.txt', 'r',encoding = 'utf-8') as file:\n",
    "    content = file.read()\n",
    "    male_suggestions = content.split('\\n')#[term[:-1] for term in file.readlines() if term != '']"
   ],
   "metadata": {
    "collapsed": false,
    "pycharm": {
     "name": "#%%\n"
    }
   }
  },
  {
   "cell_type": "code",
   "execution_count": null,
   "outputs": [],
   "source": [
    "male_counts = Counter(male_suggestions)"
   ],
   "metadata": {
    "collapsed": false,
    "pycharm": {
     "name": "#%%\n"
    }
   }
  },
  {
   "cell_type": "code",
   "execution_count": null,
   "outputs": [],
   "source": [
    "for cluster in clusters:\n",
    "    count=0\n",
    "    for term in cluster:\n",
    "        print(term)\n",
    "        count+=int(male_counts[term])\n",
    "    with open('./male_cluster_counts.csv','a') as file:\n",
    "        file.write(str(count)+'\\n')"
   ],
   "metadata": {
    "collapsed": false,
    "pycharm": {
     "name": "#%%\n"
    }
   }
  },
  {
   "cell_type": "markdown",
   "source": [
    "## Genderize API Evaluation\n",
    "### Load Gender data"
   ],
   "metadata": {
    "collapsed": false,
    "pycharm": {
     "name": "#%% md\n"
    }
   }
  },
  {
   "cell_type": "code",
   "execution_count": 41,
   "outputs": [
    {
     "data": {
      "text/plain": "   Unnamed: 0           f_name gender  gender_probability\n0           0           Gunnar   male                0.99\n1           1             Ates   male                0.90\n2           2  bundeskanzlerin   male                1.00\n3           3          Michael   male                0.99\n4           4          Maurice   male                0.98",
      "text/html": "<div>\n<style scoped>\n    .dataframe tbody tr th:only-of-type {\n        vertical-align: middle;\n    }\n\n    .dataframe tbody tr th {\n        vertical-align: top;\n    }\n\n    .dataframe thead th {\n        text-align: right;\n    }\n</style>\n<table border=\"1\" class=\"dataframe\">\n  <thead>\n    <tr style=\"text-align: right;\">\n      <th></th>\n      <th>Unnamed: 0</th>\n      <th>f_name</th>\n      <th>gender</th>\n      <th>gender_probability</th>\n    </tr>\n  </thead>\n  <tbody>\n    <tr>\n      <th>0</th>\n      <td>0</td>\n      <td>Gunnar</td>\n      <td>male</td>\n      <td>0.99</td>\n    </tr>\n    <tr>\n      <th>1</th>\n      <td>1</td>\n      <td>Ates</td>\n      <td>male</td>\n      <td>0.90</td>\n    </tr>\n    <tr>\n      <th>2</th>\n      <td>2</td>\n      <td>bundeskanzlerin</td>\n      <td>male</td>\n      <td>1.00</td>\n    </tr>\n    <tr>\n      <th>3</th>\n      <td>3</td>\n      <td>Michael</td>\n      <td>male</td>\n      <td>0.99</td>\n    </tr>\n    <tr>\n      <th>4</th>\n      <td>4</td>\n      <td>Maurice</td>\n      <td>male</td>\n      <td>0.98</td>\n    </tr>\n  </tbody>\n</table>\n</div>"
     },
     "execution_count": 41,
     "metadata": {},
     "output_type": "execute_result"
    }
   ],
   "source": [
    "btw17_name_gender_df = pd.read_csv('./btw17_name_gender_df.csv')\n",
    "btw17_name_gender_df.head(5)"
   ],
   "metadata": {
    "collapsed": false,
    "pycharm": {
     "name": "#%%\n"
    }
   }
  },
  {
   "cell_type": "markdown",
   "source": [
    "### Load and prepare testset"
   ],
   "metadata": {
    "collapsed": false,
    "pycharm": {
     "name": "#%% md\n"
    }
   }
  },
  {
   "cell_type": "code",
   "execution_count": 42,
   "outputs": [
    {
     "data": {
      "text/plain": "   Unnamed: 0                 Name  Born      Party         Bundesland  \\\n0           0   Wolfgang Stefinger  1985        CSU             Bayern   \n1           1        Kai Whittaker  1985        CDU  Baden-Württemberg   \n2           2    Katrin Albsteiger  1983        CSU             Bayern   \n3           3  Susanna Karawanskij  1980  DIE LINKE            Sachsen   \n4           4        Florian Oßner  1980        CSU             Bayern   \n\n   Gender  Age  \n0    male   35  \n1    male   35  \n2  female   37  \n3  female   40  \n4    male   40  ",
      "text/html": "<div>\n<style scoped>\n    .dataframe tbody tr th:only-of-type {\n        vertical-align: middle;\n    }\n\n    .dataframe tbody tr th {\n        vertical-align: top;\n    }\n\n    .dataframe thead th {\n        text-align: right;\n    }\n</style>\n<table border=\"1\" class=\"dataframe\">\n  <thead>\n    <tr style=\"text-align: right;\">\n      <th></th>\n      <th>Unnamed: 0</th>\n      <th>Name</th>\n      <th>Born</th>\n      <th>Party</th>\n      <th>Bundesland</th>\n      <th>Gender</th>\n      <th>Age</th>\n    </tr>\n  </thead>\n  <tbody>\n    <tr>\n      <th>0</th>\n      <td>0</td>\n      <td>Wolfgang Stefinger</td>\n      <td>1985</td>\n      <td>CSU</td>\n      <td>Bayern</td>\n      <td>male</td>\n      <td>35</td>\n    </tr>\n    <tr>\n      <th>1</th>\n      <td>1</td>\n      <td>Kai Whittaker</td>\n      <td>1985</td>\n      <td>CDU</td>\n      <td>Baden-Württemberg</td>\n      <td>male</td>\n      <td>35</td>\n    </tr>\n    <tr>\n      <th>2</th>\n      <td>2</td>\n      <td>Katrin Albsteiger</td>\n      <td>1983</td>\n      <td>CSU</td>\n      <td>Bayern</td>\n      <td>female</td>\n      <td>37</td>\n    </tr>\n    <tr>\n      <th>3</th>\n      <td>3</td>\n      <td>Susanna Karawanskij</td>\n      <td>1980</td>\n      <td>DIE LINKE</td>\n      <td>Sachsen</td>\n      <td>female</td>\n      <td>40</td>\n    </tr>\n    <tr>\n      <th>4</th>\n      <td>4</td>\n      <td>Florian Oßner</td>\n      <td>1980</td>\n      <td>CSU</td>\n      <td>Bayern</td>\n      <td>male</td>\n      <td>40</td>\n    </tr>\n  </tbody>\n</table>\n</div>"
     },
     "execution_count": 42,
     "metadata": {},
     "output_type": "execute_result"
    }
   ],
   "source": [
    "politician_df = pd.read_csv('./politiker.csv')\n",
    "politician_df.head(5)\n"
   ],
   "metadata": {
    "collapsed": false,
    "pycharm": {
     "name": "#%%\n"
    }
   }
  },
  {
   "cell_type": "code",
   "execution_count": 43,
   "outputs": [
    {
     "data": {
      "text/plain": "     f_name gender_test\n0  Wolfgang        male\n1       Kai        male\n2    Katrin      female\n3   Susanna      female\n4   Florian        male",
      "text/html": "<div>\n<style scoped>\n    .dataframe tbody tr th:only-of-type {\n        vertical-align: middle;\n    }\n\n    .dataframe tbody tr th {\n        vertical-align: top;\n    }\n\n    .dataframe thead th {\n        text-align: right;\n    }\n</style>\n<table border=\"1\" class=\"dataframe\">\n  <thead>\n    <tr style=\"text-align: right;\">\n      <th></th>\n      <th>f_name</th>\n      <th>gender_test</th>\n    </tr>\n  </thead>\n  <tbody>\n    <tr>\n      <th>0</th>\n      <td>Wolfgang</td>\n      <td>male</td>\n    </tr>\n    <tr>\n      <th>1</th>\n      <td>Kai</td>\n      <td>male</td>\n    </tr>\n    <tr>\n      <th>2</th>\n      <td>Katrin</td>\n      <td>female</td>\n    </tr>\n    <tr>\n      <th>3</th>\n      <td>Susanna</td>\n      <td>female</td>\n    </tr>\n    <tr>\n      <th>4</th>\n      <td>Florian</td>\n      <td>male</td>\n    </tr>\n  </tbody>\n</table>\n</div>"
     },
     "execution_count": 43,
     "metadata": {},
     "output_type": "execute_result"
    }
   ],
   "source": [
    "politician_df['f_name'] = politician_df['Name'].apply(lambda x: x.split(' ')[0])\n",
    "politician_df = politician_df[['Gender','f_name']]\n",
    "politician_df = politician_df.rename(columns={'Gender': 'gender_test'})\n",
    "politician_df = politician_df[['f_name','gender_test']]\n",
    "politician_df = politician_df.drop_duplicates()\n",
    "politician_df.head(5)"
   ],
   "metadata": {
    "collapsed": false,
    "pycharm": {
     "name": "#%%\n"
    }
   }
  },
  {
   "cell_type": "code",
   "execution_count": 45,
   "outputs": [
    {
     "name": "stdout",
     "output_type": "stream",
     "text": [
      "(1137, 2)\n"
     ]
    },
    {
     "data": {
      "text/plain": "(990, 2)"
     },
     "execution_count": 45,
     "metadata": {},
     "output_type": "execute_result"
    }
   ],
   "source": [
    "btw17_name_gender_df = btw17_name_gender_df[['f_name','gender']]\n",
    "btw17_name_gender_df.head(5)"
   ],
   "metadata": {
    "collapsed": false,
    "pycharm": {
     "name": "#%%\n"
    }
   }
  },
  {
   "cell_type": "code",
   "execution_count": 47,
   "outputs": [],
   "source": [
    "politician_df = politician_df.dropna()\n",
    "btw17_name_gender_df = btw17_name_gender_df.dropna()"
   ],
   "metadata": {
    "collapsed": false,
    "pycharm": {
     "name": "#%%\n"
    }
   }
  },
  {
   "cell_type": "code",
   "execution_count": 48,
   "outputs": [
    {
     "name": "stdout",
     "output_type": "stream",
     "text": [
      "(505, 2)\n"
     ]
    },
    {
     "data": {
      "text/plain": "(824, 2)"
     },
     "execution_count": 48,
     "metadata": {},
     "output_type": "execute_result"
    }
   ],
   "source": [
    "print(politician_df.shape)\n",
    "btw17_name_gender_df.shape"
   ],
   "metadata": {
    "collapsed": false,
    "pycharm": {
     "name": "#%%\n"
    }
   }
  },
  {
   "cell_type": "code",
   "execution_count": 49,
   "outputs": [],
   "source": [
    "politician_df = politician_df.reset_index(drop=True)\n",
    "btw17_name_gender_df = btw17_name_gender_df.reset_index(drop=True)"
   ],
   "metadata": {
    "collapsed": false,
    "pycharm": {
     "name": "#%%\n"
    }
   }
  },
  {
   "cell_type": "code",
   "execution_count": 51,
   "outputs": [
    {
     "data": {
      "text/plain": "    f_name gender_pred gender_true\n0     Ates        male        male\n1  Michael        male        male\n2  Florian        male        male\n3   Renata      female      female\n4    David        male        male",
      "text/html": "<div>\n<style scoped>\n    .dataframe tbody tr th:only-of-type {\n        vertical-align: middle;\n    }\n\n    .dataframe tbody tr th {\n        vertical-align: top;\n    }\n\n    .dataframe thead th {\n        text-align: right;\n    }\n</style>\n<table border=\"1\" class=\"dataframe\">\n  <thead>\n    <tr style=\"text-align: right;\">\n      <th></th>\n      <th>f_name</th>\n      <th>gender_pred</th>\n      <th>gender_true</th>\n    </tr>\n  </thead>\n  <tbody>\n    <tr>\n      <th>0</th>\n      <td>Ates</td>\n      <td>male</td>\n      <td>male</td>\n    </tr>\n    <tr>\n      <th>1</th>\n      <td>Michael</td>\n      <td>male</td>\n      <td>male</td>\n    </tr>\n    <tr>\n      <th>2</th>\n      <td>Florian</td>\n      <td>male</td>\n      <td>male</td>\n    </tr>\n    <tr>\n      <th>3</th>\n      <td>Renata</td>\n      <td>female</td>\n      <td>female</td>\n    </tr>\n    <tr>\n      <th>4</th>\n      <td>David</td>\n      <td>male</td>\n      <td>male</td>\n    </tr>\n  </tbody>\n</table>\n</div>"
     },
     "execution_count": 51,
     "metadata": {},
     "output_type": "execute_result"
    }
   ],
   "source": [
    "merged_gender_df = btw17_name_gender_df.merge(politician_df, on='f_name').astype(str)\n",
    "merged_gender_df.columns = ['f_name','gender_pred','gender_true']\n",
    "merged_gender_df.head(5)"
   ],
   "metadata": {
    "collapsed": false,
    "pycharm": {
     "name": "#%%\n"
    }
   }
  },
  {
   "cell_type": "markdown",
   "source": [
    "## Create a confusion matrix"
   ],
   "metadata": {
    "collapsed": false,
    "pycharm": {
     "name": "#%% md\n"
    }
   }
  },
  {
   "cell_type": "code",
   "execution_count": 52,
   "outputs": [
    {
     "name": "stdout",
     "output_type": "stream",
     "text": [
      "gender_pred  female  male  All\n",
      "gender_true                   \n",
      "female          196    16  212\n",
      "male              9   255  264\n",
      "All             205   271  476\n"
     ]
    }
   ],
   "source": [
    "gender_pred = merged_gender_df['gender_pred']\n",
    "gender_true = merged_gender_df['gender_true']\n",
    "\n",
    "confusion_df = pd.crosstab(gender_true, gender_pred, margins=True,rownames=['gender_true'], colnames=['gender_pred'])\n",
    "print(confusion_df)"
   ],
   "metadata": {
    "collapsed": false,
    "pycharm": {
     "name": "#%%\n"
    }
   }
  },
  {
   "cell_type": "code",
   "execution_count": 39,
   "outputs": [
    {
     "data": {
      "text/plain": "<Figure size 432x288 with 0 Axes>"
     },
     "metadata": {},
     "output_type": "display_data"
    },
    {
     "data": {
      "text/plain": "<Figure size 432x288 with 1 Axes>",
      "image/png": "[encoded data removed]"
     },
     "metadata": {
      "needs_background": "light"
     },
     "output_type": "display_data"
    }
   ],
   "source": [
    "plt.clf()\n",
    "fig = plt.figure()\n",
    "ax = fig.add_subplot(111)\n",
    "ax.set_aspect(1)\n",
    "res = sn.heatmap(confusion_df.T, annot=True, fmt='.2f', cmap=\"YlGnBu\", cbar=False)\n",
    "plt.title('Confusion Matrix')\n",
    "plt.xlabel('True Gender')\n",
    "plt.ylabel('Predicted Gender')\n",
    "plt.savefig(\"./confusion_matrix.png\", dpi=300)\n",
    "plt.show()"
   ],
   "metadata": {
    "collapsed": false,
    "pycharm": {
     "name": "#%%\n"
    }
   }
  },
  {
   "cell_type": "markdown",
   "source": [
    "## Gender Cluster Evaluation"
   ],
   "metadata": {
    "collapsed": false,
    "pycharm": {
     "name": "#%% md\n"
    }
   },
   "execution_count": 23
  },
  {
   "cell_type": "code",
   "execution_count": 125,
   "outputs": [
    {
     "data": {
      "text/plain": "        cluster_label                                      cluster_terms  \\\n0  unternehmen_marken  ['bauhaus', 'prosieben', 'sparkasse', 'vorwerk...   \n1       sport_hobbies  ['angeln', 'poker', 'liga', 'club', 'league', ...   \n2         nachrichten  ['kicker', 'stuttgarter', 'tagesspiegel', 'ver...   \n\n   female_count  male_count  \n0      153774.0   1273553.0  \n1      387765.0    422864.0  \n2      164599.0    256233.0  ",
      "text/html": "<div>\n<style scoped>\n    .dataframe tbody tr th:only-of-type {\n        vertical-align: middle;\n    }\n\n    .dataframe tbody tr th {\n        vertical-align: top;\n    }\n\n    .dataframe thead th {\n        text-align: right;\n    }\n</style>\n<table border=\"1\" class=\"dataframe\">\n  <thead>\n    <tr style=\"text-align: right;\">\n      <th></th>\n      <th>cluster_label</th>\n      <th>cluster_terms</th>\n      <th>female_count</th>\n      <th>male_count</th>\n    </tr>\n  </thead>\n  <tbody>\n    <tr>\n      <th>0</th>\n      <td>unternehmen_marken</td>\n      <td>['bauhaus', 'prosieben', 'sparkasse', 'vorwerk...</td>\n      <td>153774.0</td>\n      <td>1273553.0</td>\n    </tr>\n    <tr>\n      <th>1</th>\n      <td>sport_hobbies</td>\n      <td>['angeln', 'poker', 'liga', 'club', 'league', ...</td>\n      <td>387765.0</td>\n      <td>422864.0</td>\n    </tr>\n    <tr>\n      <th>2</th>\n      <td>nachrichten</td>\n      <td>['kicker', 'stuttgarter', 'tagesspiegel', 'ver...</td>\n      <td>164599.0</td>\n      <td>256233.0</td>\n    </tr>\n  </tbody>\n</table>\n</div>"
     },
     "execution_count": 125,
     "metadata": {},
     "output_type": "execute_result"
    }
   ],
   "source": [
    "cluster_count_df = pd.read_csv('./cluster_count_female.csv')\n",
    "cluster_count_df['male_count']  = pd.read_csv('./male_cluster_counts.csv')\n",
    "cluster_count_df.head(3)"
   ],
   "metadata": {
    "collapsed": false,
    "pycharm": {
     "name": "#%%\n"
    }
   }
  },
  {
   "cell_type": "code",
   "execution_count": 126,
   "outputs": [
    {
     "data": {
      "text/plain": "            cluster_label  female_count  male_count\n0      unternehmen_marken      153774.0   1273553.0\n1           sport_hobbies      387765.0    422864.0\n2             nachrichten      164599.0    256233.0\n3        militaer_polizei       46554.0  10949863.0\n4      technologie_medien     5164307.0   2917762.0\n5            kunst_kultur      862283.0    639067.0\n6                 bildung       94751.0    216907.0\n7  wissenschaft_forschung       27145.0     24418.0\n8           mode_aussehen       41138.0   6582455.0\n9             privatleben     2323851.0    493123.0",
      "text/html": "<div>\n<style scoped>\n    .dataframe tbody tr th:only-of-type {\n        vertical-align: middle;\n    }\n\n    .dataframe tbody tr th {\n        vertical-align: top;\n    }\n\n    .dataframe thead th {\n        text-align: right;\n    }\n</style>\n<table border=\"1\" class=\"dataframe\">\n  <thead>\n    <tr style=\"text-align: right;\">\n      <th></th>\n      <th>cluster_label</th>\n      <th>female_count</th>\n      <th>male_count</th>\n    </tr>\n  </thead>\n  <tbody>\n    <tr>\n      <th>0</th>\n      <td>unternehmen_marken</td>\n      <td>153774.0</td>\n      <td>1273553.0</td>\n    </tr>\n    <tr>\n      <th>1</th>\n      <td>sport_hobbies</td>\n      <td>387765.0</td>\n      <td>422864.0</td>\n    </tr>\n    <tr>\n      <th>2</th>\n      <td>nachrichten</td>\n      <td>164599.0</td>\n      <td>256233.0</td>\n    </tr>\n    <tr>\n      <th>3</th>\n      <td>militaer_polizei</td>\n      <td>46554.0</td>\n      <td>10949863.0</td>\n    </tr>\n    <tr>\n      <th>4</th>\n      <td>technologie_medien</td>\n      <td>5164307.0</td>\n      <td>2917762.0</td>\n    </tr>\n    <tr>\n      <th>5</th>\n      <td>kunst_kultur</td>\n      <td>862283.0</td>\n      <td>639067.0</td>\n    </tr>\n    <tr>\n      <th>6</th>\n      <td>bildung</td>\n      <td>94751.0</td>\n      <td>216907.0</td>\n    </tr>\n    <tr>\n      <th>7</th>\n      <td>wissenschaft_forschung</td>\n      <td>27145.0</td>\n      <td>24418.0</td>\n    </tr>\n    <tr>\n      <th>8</th>\n      <td>mode_aussehen</td>\n      <td>41138.0</td>\n      <td>6582455.0</td>\n    </tr>\n    <tr>\n      <th>9</th>\n      <td>privatleben</td>\n      <td>2323851.0</td>\n      <td>493123.0</td>\n    </tr>\n  </tbody>\n</table>\n</div>"
     },
     "execution_count": 126,
     "metadata": {},
     "output_type": "execute_result"
    }
   ],
   "source": [
    "cluster_count_df = cluster_count_df[['cluster_label','female_count', 'male_count']]\n",
    "cluster_count_df.head(10)"
   ],
   "metadata": {
    "collapsed": false,
    "pycharm": {
     "name": "#%%\n"
    }
   }
  },
  {
   "cell_type": "code",
   "execution_count": 127,
   "outputs": [
    {
     "data": {
      "text/plain": "            cluster_label  female_count  male_count  female_norm  male_norm\n0      unternehmen_marken      153774.0   1273553.0     0.029776   0.115018\n1           sport_hobbies      387765.0    422864.0     0.075085   0.037215\n2             nachrichten      164599.0    256233.0     0.031872   0.021975\n3        militaer_polizei       46554.0  10949863.0     0.009014   1.000000\n4      technologie_medien     5164307.0   2917762.0     1.000000   0.265395\n5            kunst_kultur      862283.0    639067.0     0.166969   0.056989\n6                 bildung       94751.0    216907.0     0.018347   0.018379\n7  wissenschaft_forschung       27145.0     24418.0     0.005256   0.000774\n8           mode_aussehen       41138.0   6582455.0     0.007965   0.600563\n9             privatleben     2323851.0    493123.0     0.449983   0.043641",
      "text/html": "<div>\n<style scoped>\n    .dataframe tbody tr th:only-of-type {\n        vertical-align: middle;\n    }\n\n    .dataframe tbody tr th {\n        vertical-align: top;\n    }\n\n    .dataframe thead th {\n        text-align: right;\n    }\n</style>\n<table border=\"1\" class=\"dataframe\">\n  <thead>\n    <tr style=\"text-align: right;\">\n      <th></th>\n      <th>cluster_label</th>\n      <th>female_count</th>\n      <th>male_count</th>\n      <th>female_norm</th>\n      <th>male_norm</th>\n    </tr>\n  </thead>\n  <tbody>\n    <tr>\n      <th>0</th>\n      <td>unternehmen_marken</td>\n      <td>153774.0</td>\n      <td>1273553.0</td>\n      <td>0.029776</td>\n      <td>0.115018</td>\n    </tr>\n    <tr>\n      <th>1</th>\n      <td>sport_hobbies</td>\n      <td>387765.0</td>\n      <td>422864.0</td>\n      <td>0.075085</td>\n      <td>0.037215</td>\n    </tr>\n    <tr>\n      <th>2</th>\n      <td>nachrichten</td>\n      <td>164599.0</td>\n      <td>256233.0</td>\n      <td>0.031872</td>\n      <td>0.021975</td>\n    </tr>\n    <tr>\n      <th>3</th>\n      <td>militaer_polizei</td>\n      <td>46554.0</td>\n      <td>10949863.0</td>\n      <td>0.009014</td>\n      <td>1.000000</td>\n    </tr>\n    <tr>\n      <th>4</th>\n      <td>technologie_medien</td>\n      <td>5164307.0</td>\n      <td>2917762.0</td>\n      <td>1.000000</td>\n      <td>0.265395</td>\n    </tr>\n    <tr>\n      <th>5</th>\n      <td>kunst_kultur</td>\n      <td>862283.0</td>\n      <td>639067.0</td>\n      <td>0.166969</td>\n      <td>0.056989</td>\n    </tr>\n    <tr>\n      <th>6</th>\n      <td>bildung</td>\n      <td>94751.0</td>\n      <td>216907.0</td>\n      <td>0.018347</td>\n      <td>0.018379</td>\n    </tr>\n    <tr>\n      <th>7</th>\n      <td>wissenschaft_forschung</td>\n      <td>27145.0</td>\n      <td>24418.0</td>\n      <td>0.005256</td>\n      <td>0.000774</td>\n    </tr>\n    <tr>\n      <th>8</th>\n      <td>mode_aussehen</td>\n      <td>41138.0</td>\n      <td>6582455.0</td>\n      <td>0.007965</td>\n      <td>0.600563</td>\n    </tr>\n    <tr>\n      <th>9</th>\n      <td>privatleben</td>\n      <td>2323851.0</td>\n      <td>493123.0</td>\n      <td>0.449983</td>\n      <td>0.043641</td>\n    </tr>\n  </tbody>\n</table>\n</div>"
     },
     "execution_count": 127,
     "metadata": {},
     "output_type": "execute_result"
    }
   ],
   "source": [
    "x = cluster_count_df[['female_count', 'male_count']].values #returns a numpy array\n",
    "min_max_scaler = preprocessing.MinMaxScaler()\n",
    "x_scaled = min_max_scaler.fit_transform(x)\n",
    "cluster_count_df = pd.concat([cluster_count_df,pd.DataFrame(x_scaled)], axis=1)\n",
    "cluster_count_df.columns = ['cluster_label','female_count','male_count','female_norm','male_norm']\n",
    "cluster_count_df.head(10)\n"
   ],
   "metadata": {
    "collapsed": false,
    "pycharm": {
     "name": "#%%\n"
    }
   }
  },
  {
   "cell_type": "code",
   "execution_count": 92,
   "outputs": [
    {
     "data": {
      "text/plain": "        cluster_label  female_count  male_count  female_norm  male_norm  \\\n0  unternehmen_marken      153774.0   1273553.0     0.029776   0.115018   \n1       sport_hobbies      387765.0    422864.0     0.075085   0.037215   \n2         nachrichten      164599.0    256233.0     0.031872   0.021975   \n3    militaer_polizei       46554.0  10949863.0     0.009014   1.000000   \n4  technologie_medien     5164307.0   2917762.0     1.000000   0.265395   \n\n   female_perc  male_perc  \n0     0.014066   0.045547  \n1     0.035470   0.014737  \n2     0.015056   0.008702  \n3     0.004258   0.396003  \n4     0.472398   0.105097  ",
      "text/html": "<div>\n<style scoped>\n    .dataframe tbody tr th:only-of-type {\n        vertical-align: middle;\n    }\n\n    .dataframe tbody tr th {\n        vertical-align: top;\n    }\n\n    .dataframe thead th {\n        text-align: right;\n    }\n</style>\n<table border=\"1\" class=\"dataframe\">\n  <thead>\n    <tr style=\"text-align: right;\">\n      <th></th>\n      <th>cluster_label</th>\n      <th>female_count</th>\n      <th>male_count</th>\n      <th>female_norm</th>\n      <th>male_norm</th>\n      <th>female_perc</th>\n      <th>male_perc</th>\n    </tr>\n  </thead>\n  <tbody>\n    <tr>\n      <th>0</th>\n      <td>unternehmen_marken</td>\n      <td>153774.0</td>\n      <td>1273553.0</td>\n      <td>0.029776</td>\n      <td>0.115018</td>\n      <td>0.014066</td>\n      <td>0.045547</td>\n    </tr>\n    <tr>\n      <th>1</th>\n      <td>sport_hobbies</td>\n      <td>387765.0</td>\n      <td>422864.0</td>\n      <td>0.075085</td>\n      <td>0.037215</td>\n      <td>0.035470</td>\n      <td>0.014737</td>\n    </tr>\n    <tr>\n      <th>2</th>\n      <td>nachrichten</td>\n      <td>164599.0</td>\n      <td>256233.0</td>\n      <td>0.031872</td>\n      <td>0.021975</td>\n      <td>0.015056</td>\n      <td>0.008702</td>\n    </tr>\n    <tr>\n      <th>3</th>\n      <td>militaer_polizei</td>\n      <td>46554.0</td>\n      <td>10949863.0</td>\n      <td>0.009014</td>\n      <td>1.000000</td>\n      <td>0.004258</td>\n      <td>0.396003</td>\n    </tr>\n    <tr>\n      <th>4</th>\n      <td>technologie_medien</td>\n      <td>5164307.0</td>\n      <td>2917762.0</td>\n      <td>1.000000</td>\n      <td>0.265395</td>\n      <td>0.472398</td>\n      <td>0.105097</td>\n    </tr>\n  </tbody>\n</table>\n</div>"
     },
     "execution_count": 92,
     "metadata": {},
     "output_type": "execute_result"
    }
   ],
   "source": [
    "total_female_norm = pd.Series(cluster_count_df['female_norm'], dtype='float').sum()\n",
    "total_male_norm = pd.Series(cluster_count_df['male_norm'], dtype='float').sum()\n",
    "\n",
    "cluster_count_df['female_perc'] = cluster_count_df.female_norm.apply(lambda x: float(x) / total_female_norm )\n",
    "cluster_count_df['male_perc'] = cluster_count_df.male_norm.apply(lambda x: float(x) / total_male_norm )\n",
    "cluster_count_df.head(5)"
   ],
   "metadata": {
    "collapsed": false,
    "pycharm": {
     "name": "#%%\n"
    }
   }
  },
  {
   "cell_type": "markdown",
   "source": [
    "## Plot distribution"
   ],
   "metadata": {
    "collapsed": false,
    "pycharm": {
     "name": "#%% md\n"
    }
   }
  },
  {
   "cell_type": "code",
   "execution_count": 110,
   "outputs": [
    {
     "data": {
      "text/plain": "<Figure size 432x288 with 1 Axes>",
      "image/png": "[encoded data removed]"
     },
     "metadata": {
      "needs_background": "light"
     },
     "output_type": "display_data"
    }
   ],
   "source": [
    "# data to plot\n",
    "n_cluster = 18\n",
    "male_perc = cluster_count_df['male_perc']*100\n",
    "female_perc = cluster_count_df['female_perc']*100\n",
    "\n",
    "# create plot\n",
    "fig, ax = plt.subplots()\n",
    "index = np.arange(n_cluster)\n",
    "bar_width = 0.40\n",
    "opacity = 0.9\n",
    "\n",
    "rects1 = plt.bar(index, male_perc, bar_width,\n",
    "alpha=opacity,\n",
    "color='c',\n",
    "label='Männlich')\n",
    "\n",
    "rects2 = plt.bar(index + bar_width, female_perc, bar_width,\n",
    "alpha=opacity,\n",
    "color='y',\n",
    "label='Weiblich')\n",
    "\n",
    "plt.xlabel('Cluster Label')\n",
    "plt.ylabel('Anteil [%]')\n",
    "plt.title('Prozentuale Verteilung nach Geschlecht und Cluster')\n",
    "plt.xticks(index + bar_width ,['Unternehmen',\n",
    "                               'Hobbies',\n",
    "                               'Nachrichten',\n",
    "                               'Militär/Polizei',\n",
    "                               'Technologie',\n",
    "                               'Kultur',\n",
    "                               'Bildung',\n",
    "                               'Wissenschaft',\n",
    "                               'Mode',\n",
    "                               'Privatleben',\n",
    "                               'Transport',\n",
    "                               'Politik',\n",
    "                               'Wirtschaft',\n",
    "                               'Speisen',\n",
    "                               'Gesundheit',\n",
    "                               'Recht',\n",
    "                               'Terror',\n",
    "                               'Religion'], rotation = 80)\n",
    "plt.legend()\n",
    "\n",
    "plt.tight_layout()\n",
    "plt.savefig('./distribution_gender_cluster.png', dpi=300)\n",
    "plt.show()"
   ],
   "metadata": {
    "collapsed": false,
    "pycharm": {
     "name": "#%%\n"
    }
   }
  },
  {
   "cell_type": "markdown",
   "source": [
    "## Independent T-Test"
   ],
   "metadata": {
    "collapsed": false,
    "pycharm": {
     "name": "#%% md\n"
    }
   }
  },
  {
   "cell_type": "code",
   "execution_count": 135,
   "outputs": [],
   "source": [
    "female_cluster_count = cluster_count_df['female_count'].apply(lambda x: float(x))\n",
    "male_cluster_count = cluster_count_df['male_count'].apply(lambda x: float(x))"
   ],
   "metadata": {
    "collapsed": false,
    "pycharm": {
     "name": "#%%\n"
    }
   }
  },
  {
   "cell_type": "code",
   "execution_count": 134,
   "outputs": [
    {
     "data": {
      "text/plain": "Ttest_indResult(statistic=nan, pvalue=nan)"
     },
     "execution_count": 134,
     "metadata": {},
     "output_type": "execute_result"
    }
   ],
   "source": [
    "stats.ttest_ind(male_cluster_count,female_cluster_count)\n",
    "\n",
    "\n"
   ],
   "metadata": {
    "collapsed": false,
    "pycharm": {
     "name": "#%%\n"
    }
   }
  }
 ],
 "metadata": {
  "kernelspec": {
   "display_name": "Python 3",
   "language": "python",
   "name": "python3"
  },
  "language_info": {
   "codemirror_mode": {
    "name": "ipython",
    "version": 3
   },
   "file_extension": ".py",
   "mimetype": "text/x-python",
   "name": "python",
   "nbconvert_exporter": "python",
   "pygments_lexer": "ipython3",
   "version": "3.8.8"
  }
 },
 "nbformat": 4,
 "nbformat_minor": 1
}